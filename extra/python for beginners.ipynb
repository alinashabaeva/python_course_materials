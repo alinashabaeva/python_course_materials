{
 "cells": [
  {
   "cell_type": "code",
   "execution_count": 3,
   "id": "c32fcd46",
   "metadata": {},
   "outputs": [
    {
     "name": "stdout",
     "output_type": "stream",
     "text": [
      "Giraffe\n",
      "Academy\n"
     ]
    }
   ],
   "source": [
    "print('Giraffe\\nAcademy')"
   ]
  },
  {
   "cell_type": "code",
   "execution_count": 5,
   "id": "c2298e44",
   "metadata": {},
   "outputs": [
    {
     "name": "stdout",
     "output_type": "stream",
     "text": [
      "G\n"
     ]
    }
   ],
   "source": [
    "phrase = 'Giraffe Academy'\n",
    "print(phrase[0])"
   ]
  },
  {
   "cell_type": "code",
   "execution_count": 8,
   "id": "ec591712",
   "metadata": {},
   "outputs": [
    {
     "name": "stdout",
     "output_type": "stream",
     "text": [
      "4\n"
     ]
    }
   ],
   "source": [
    "print(phrase.index('f'))"
   ]
  },
  {
   "cell_type": "code",
   "execution_count": 9,
   "id": "9eb8f149",
   "metadata": {},
   "outputs": [],
   "source": [
    "ny_num = -5"
   ]
  },
  {
   "cell_type": "code",
   "execution_count": 10,
   "id": "2b5c99e0",
   "metadata": {},
   "outputs": [
    {
     "name": "stdout",
     "output_type": "stream",
     "text": [
      "4\n"
     ]
    }
   ],
   "source": [
    "print(round(3.7))"
   ]
  },
  {
   "cell_type": "code",
   "execution_count": 11,
   "id": "58478d0f",
   "metadata": {},
   "outputs": [],
   "source": [
    "from math import *"
   ]
  },
  {
   "cell_type": "code",
   "execution_count": 12,
   "id": "bad7e111",
   "metadata": {},
   "outputs": [
    {
     "name": "stdout",
     "output_type": "stream",
     "text": [
      "3\n"
     ]
    }
   ],
   "source": [
    "print(floor(3.7)) # lowest"
   ]
  },
  {
   "cell_type": "code",
   "execution_count": 15,
   "id": "e0ae461f",
   "metadata": {},
   "outputs": [
    {
     "name": "stdout",
     "output_type": "stream",
     "text": [
      "6.0\n"
     ]
    }
   ],
   "source": [
    "print(sqrt(36))"
   ]
  },
  {
   "cell_type": "code",
   "execution_count": 14,
   "id": "14eaa239",
   "metadata": {},
   "outputs": [
    {
     "name": "stdout",
     "output_type": "stream",
     "text": [
      "6\n"
     ]
    }
   ],
   "source": [
    "print(ceil(5.7))"
   ]
  },
  {
   "cell_type": "code",
   "execution_count": 19,
   "id": "20697343",
   "metadata": {},
   "outputs": [
    {
     "name": "stdout",
     "output_type": "stream",
     "text": [
      "Enter your name: John\n",
      "Enter your age: 25\n",
      "Hello John! You are 25\n"
     ]
    }
   ],
   "source": [
    "name = input('Enter your name: ')\n",
    "age = input('Enter your age: ')\n",
    "print(\"Hello \" + name + \"! You are \" + age)"
   ]
  },
  {
   "cell_type": "code",
   "execution_count": 20,
   "id": "dcf2f285",
   "metadata": {},
   "outputs": [
    {
     "name": "stdout",
     "output_type": "stream",
     "text": [
      "Enter a number: 4\n",
      "Enter another number: 5\n",
      "9\n"
     ]
    }
   ],
   "source": [
    "num1 = input('Enter a number: ')\n",
    "num2 = input('Enter another number: ')\n",
    "result = int(num1) + int(num2) #не работает с НЕ целыми числами (типа 5.5)\n",
    "print(result)"
   ]
  },
  {
   "cell_type": "code",
   "execution_count": 21,
   "id": "20649f3e",
   "metadata": {},
   "outputs": [
    {
     "name": "stdout",
     "output_type": "stream",
     "text": [
      "Enter a number: 4\n",
      "Enter another number: 5.5\n",
      "9.5\n"
     ]
    }
   ],
   "source": [
    "num1 = input('Enter a number: ')\n",
    "num2 = input('Enter another number: ')\n",
    "result = float(num1) + float(num2) \n",
    "print(result)"
   ]
  },
  {
   "cell_type": "code",
   "execution_count": 24,
   "id": "e10bcf60",
   "metadata": {},
   "outputs": [
    {
     "name": "stdout",
     "output_type": "stream",
     "text": [
      "Enter a color: Magenta\n",
      "Enter a Plural Noun: Microwaves\n",
      "Enter a celebrity: Tom Hanks\n",
      "Roses are Magenta\n",
      "Microwaves are blue\n",
      "I love Tom Hanks\n"
     ]
    }
   ],
   "source": [
    "color = input('Enter a color: ')\n",
    "plural_noun = input('Enter a Plural Noun: ')\n",
    "celebrity = input('Enter a celebrity: ')\n",
    "\n",
    "print('Roses are ' + color)\n",
    "print(plural_noun + ' are blue')\n",
    "print('I love ' + celebrity)"
   ]
  },
  {
   "cell_type": "markdown",
   "id": "751e61ea",
   "metadata": {},
   "source": [
    "# Lists"
   ]
  },
  {
   "cell_type": "code",
   "execution_count": 31,
   "id": "8aa79cfb",
   "metadata": {},
   "outputs": [
    {
     "name": "stdout",
     "output_type": "stream",
     "text": [
      "Jim\n",
      "['Karen', 'Jim', 'Oscar', 'Toby']\n",
      "['Karen', 'Jim']\n"
     ]
    }
   ],
   "source": [
    "friends = ['Kevin', 'Karen', 'Jim', 'Oscar', 'Toby'] #list\n",
    "print(friends[2])\n",
    "print(friends[1:])\n",
    "print(friends[1:3])"
   ]
  },
  {
   "cell_type": "code",
   "execution_count": 32,
   "id": "4d24cf83",
   "metadata": {},
   "outputs": [
    {
     "name": "stdout",
     "output_type": "stream",
     "text": [
      "['Kevin', 'Mike', 'Jim', 'Oscar', 'Toby']\n"
     ]
    }
   ],
   "source": [
    "friends[1] = 'Mike'\n",
    "print(friends)\n"
   ]
  },
  {
   "cell_type": "code",
   "execution_count": 33,
   "id": "a4ce130f",
   "metadata": {},
   "outputs": [
    {
     "name": "stdout",
     "output_type": "stream",
     "text": [
      "Mike\n"
     ]
    }
   ],
   "source": [
    "print(friends[1])"
   ]
  },
  {
   "cell_type": "code",
   "execution_count": 40,
   "id": "64f508bf",
   "metadata": {},
   "outputs": [
    {
     "name": "stdout",
     "output_type": "stream",
     "text": [
      "['Kevin', 'Kelly', 'Karen', 'Jim', 'Oscar', 'Toby', 4, 8, 15, 16, 23, 42, 'Creed']\n"
     ]
    }
   ],
   "source": [
    "lucky_numbers = [4, 8, 15, 16, 23, 42]\n",
    "friends = ['Kevin', 'Karen', 'Jim', 'Oscar', 'Toby']\n",
    "friends.extend(lucky_numbers)\n",
    "friends.append('Creed') # add an item in the end of the list\n",
    "friends.insert(1, 'Kelly') # add an item in the middle of the list (in a certain position)\n",
    "\n",
    "print(friends)\n",
    "\n"
   ]
  },
  {
   "cell_type": "code",
   "execution_count": 41,
   "id": "dcdd16fe",
   "metadata": {},
   "outputs": [
    {
     "name": "stdout",
     "output_type": "stream",
     "text": [
      "['Kevin', 'Kelly', 'Karen', 'Oscar', 'Toby', 4, 8, 15, 16, 23, 42, 'Creed']\n"
     ]
    }
   ],
   "source": [
    "friends.remove('Jim')\n",
    "print(friends)"
   ]
  },
  {
   "cell_type": "code",
   "execution_count": 42,
   "id": "c1e5de9e",
   "metadata": {},
   "outputs": [
    {
     "name": "stdout",
     "output_type": "stream",
     "text": [
      "[]\n"
     ]
    }
   ],
   "source": [
    "friends.clear() # remove all elements (result = empty list)\n",
    "print(friends)"
   ]
  },
  {
   "cell_type": "code",
   "execution_count": 45,
   "id": "dd1ec52b",
   "metadata": {},
   "outputs": [
    {
     "name": "stdout",
     "output_type": "stream",
     "text": [
      "['Kevin', 'Karen', 'Jim', 'Oscar']\n"
     ]
    }
   ],
   "source": [
    "friends = ['Kevin', 'Karen', 'Jim', 'Oscar', 'Toby']\n",
    "friends.pop() # remove the last element in the list\n",
    "print(friends)"
   ]
  },
  {
   "cell_type": "code",
   "execution_count": 47,
   "id": "dfddd289",
   "metadata": {},
   "outputs": [
    {
     "name": "stdout",
     "output_type": "stream",
     "text": [
      "3\n"
     ]
    }
   ],
   "source": [
    "print(friends.index('Oscar'))"
   ]
  },
  {
   "cell_type": "code",
   "execution_count": 51,
   "id": "4535529d",
   "metadata": {},
   "outputs": [
    {
     "name": "stdout",
     "output_type": "stream",
     "text": [
      "2\n"
     ]
    }
   ],
   "source": [
    "friends = ['Kevin', 'Karen', 'Jim', 'Jim', 'Oscar', 'Toby']\n",
    "\n",
    "print(friends.count('Jim'))"
   ]
  },
  {
   "cell_type": "code",
   "execution_count": 54,
   "id": "7309d226",
   "metadata": {},
   "outputs": [
    {
     "name": "stdout",
     "output_type": "stream",
     "text": [
      "['Jim', 'Jim', 'Karen', 'Kevin', 'Oscar', 'Toby']\n"
     ]
    }
   ],
   "source": [
    "friends.sort() # in alphabetical order\n",
    "print(friends)"
   ]
  },
  {
   "cell_type": "code",
   "execution_count": 55,
   "id": "c2c5e4df",
   "metadata": {},
   "outputs": [
    {
     "name": "stdout",
     "output_type": "stream",
     "text": [
      "[4, 8, 15, 16, 23, 42]\n"
     ]
    }
   ],
   "source": [
    "lucky_numbers.sort() \n",
    "print(lucky_numbers)"
   ]
  },
  {
   "cell_type": "code",
   "execution_count": 56,
   "id": "cfdd3438",
   "metadata": {},
   "outputs": [
    {
     "name": "stdout",
     "output_type": "stream",
     "text": [
      "[42, 23, 16, 15, 8, 4]\n"
     ]
    }
   ],
   "source": [
    "lucky_numbers.reverse() \n",
    "print(lucky_numbers)"
   ]
  },
  {
   "cell_type": "code",
   "execution_count": 58,
   "id": "4d1355d6",
   "metadata": {},
   "outputs": [
    {
     "name": "stdout",
     "output_type": "stream",
     "text": [
      "['Jim', 'Jim', 'Karen', 'Kevin', 'Oscar', 'Toby']\n"
     ]
    }
   ],
   "source": [
    "friends2 = friends.copy()\n",
    "print(friends2)"
   ]
  },
  {
   "cell_type": "markdown",
   "id": "f1b1e443",
   "metadata": {},
   "source": [
    "# Tuples"
   ]
  },
  {
   "cell_type": "code",
   "execution_count": 61,
   "id": "6cc731ca",
   "metadata": {},
   "outputs": [
    {
     "name": "stdout",
     "output_type": "stream",
     "text": [
      "4\n"
     ]
    }
   ],
   "source": [
    "coordinates = (4, 5) # tuples can't be changed or modified!\n",
    "print(coordinates[0])"
   ]
  },
  {
   "cell_type": "code",
   "execution_count": 62,
   "id": "4356e0cb",
   "metadata": {},
   "outputs": [
    {
     "ename": "TypeError",
     "evalue": "'tuple' object does not support item assignment",
     "output_type": "error",
     "traceback": [
      "\u001b[0;31m---------------------------------------------------------------------------\u001b[0m",
      "\u001b[0;31mTypeError\u001b[0m                                 Traceback (most recent call last)",
      "\u001b[0;32m<ipython-input-62-e34a46095533>\u001b[0m in \u001b[0;36m<module>\u001b[0;34m\u001b[0m\n\u001b[0;32m----> 1\u001b[0;31m \u001b[0mcoordinates\u001b[0m\u001b[0;34m[\u001b[0m\u001b[0;36m0\u001b[0m\u001b[0;34m]\u001b[0m \u001b[0;34m=\u001b[0m \u001b[0;36m10\u001b[0m\u001b[0;34m\u001b[0m\u001b[0;34m\u001b[0m\u001b[0m\n\u001b[0m\u001b[1;32m      2\u001b[0m \u001b[0mprint\u001b[0m\u001b[0;34m(\u001b[0m\u001b[0mcoordinates\u001b[0m\u001b[0;34m[\u001b[0m\u001b[0;36m0\u001b[0m\u001b[0;34m]\u001b[0m\u001b[0;34m)\u001b[0m\u001b[0;34m\u001b[0m\u001b[0;34m\u001b[0m\u001b[0m\n",
      "\u001b[0;31mTypeError\u001b[0m: 'tuple' object does not support item assignment"
     ]
    }
   ],
   "source": [
    "coordinates[0] = 10 # because tuples can NOT be changed\n",
    "print(coordinates[0])"
   ]
  },
  {
   "cell_type": "code",
   "execution_count": 63,
   "id": "232ed083",
   "metadata": {},
   "outputs": [],
   "source": [
    "coordinates = [(4, 5), (6, 7), (80, 34)] # list of tuples"
   ]
  },
  {
   "cell_type": "markdown",
   "id": "ed0b911a",
   "metadata": {},
   "source": [
    "# Function"
   ]
  },
  {
   "cell_type": "code",
   "execution_count": 67,
   "id": "cc96db52",
   "metadata": {},
   "outputs": [
    {
     "name": "stdout",
     "output_type": "stream",
     "text": [
      "Top\n",
      "Hello User\n",
      "Bottom\n"
     ]
    }
   ],
   "source": [
    "def say_hi():\n",
    "    print('Hello User')\n",
    "\n",
    "print('Top')    \n",
    "say_hi() \n",
    "print('Bottom')"
   ]
  },
  {
   "cell_type": "code",
   "execution_count": 71,
   "id": "73b25eb6",
   "metadata": {},
   "outputs": [
    {
     "name": "stdout",
     "output_type": "stream",
     "text": [
      "Hello Mike! You are 35\n",
      "Hello Steve! You are 70\n"
     ]
    }
   ],
   "source": [
    "def say_hi(name, age): # parameters in ()\n",
    "    print('Hello ' + name + '! You are ' + str(age))\n",
    "\n",
    "say_hi('Mike', 35)\n",
    "say_hi('Steve', 70) "
   ]
  },
  {
   "cell_type": "code",
   "execution_count": 74,
   "id": "402f2e74",
   "metadata": {},
   "outputs": [
    {
     "name": "stdout",
     "output_type": "stream",
     "text": [
      "64\n"
     ]
    }
   ],
   "source": [
    "def cube(num):\n",
    "    return num*num*num\n",
    "\n",
    "result = cube(4)\n",
    "print(result)"
   ]
  },
  {
   "cell_type": "markdown",
   "id": "76207b6e",
   "metadata": {},
   "source": [
    "# IF statements"
   ]
  },
  {
   "cell_type": "code",
   "execution_count": 102,
   "id": "eab10c0e",
   "metadata": {},
   "outputs": [],
   "source": [
    "is_male = True\n",
    "is_tall = False"
   ]
  },
  {
   "cell_type": "code",
   "execution_count": 103,
   "id": "bbb86fef",
   "metadata": {},
   "outputs": [
    {
     "name": "stdout",
     "output_type": "stream",
     "text": [
      "You are a male or tall or both\n"
     ]
    }
   ],
   "source": [
    "if is_male or is_tall:\n",
    "    print('You are a male or tall or both')\n",
    "else:\n",
    "    print('You are neither male nor tall')"
   ]
  },
  {
   "cell_type": "code",
   "execution_count": 104,
   "id": "32d777fc",
   "metadata": {},
   "outputs": [
    {
     "name": "stdout",
     "output_type": "stream",
     "text": [
      "You are not a male and not tall\n"
     ]
    }
   ],
   "source": [
    "if is_male and is_tall:\n",
    "    print('You are a tall male')\n",
    "else:\n",
    "    print('You are not a male and not tall')"
   ]
  },
  {
   "cell_type": "code",
   "execution_count": 105,
   "id": "8a811dd6",
   "metadata": {},
   "outputs": [
    {
     "name": "stdout",
     "output_type": "stream",
     "text": [
      "You are a short male\n"
     ]
    }
   ],
   "source": [
    "if is_male and is_tall:\n",
    "    print('You are a tall male')\n",
    "elif is_male and not(is_tall):\n",
    "    print('You are a short male')\n",
    "elif not(is_male) and is_tall:\n",
    "    print('You are not a male but are tall')\n",
    "else:\n",
    "    print('You are either not male ot not tall or both')"
   ]
  },
  {
   "cell_type": "code",
   "execution_count": 107,
   "id": "2e775434",
   "metadata": {},
   "outputs": [
    {
     "name": "stdout",
     "output_type": "stream",
     "text": [
      "40\n"
     ]
    }
   ],
   "source": [
    "def max_num(num1, num2, num3):\n",
    "    if num1 >= num2 and num1 >= num3:\n",
    "        return num1\n",
    "    elif num2 >= num1 and num2 >= num3:\n",
    "        return num2\n",
    "    else:\n",
    "        return num3\n",
    "    \n",
    "print(max_num(3, 40, 5))"
   ]
  },
  {
   "cell_type": "markdown",
   "id": "cb514097",
   "metadata": {},
   "source": [
    "== #equal\n",
    "!= #not equal\n",
    ">=\n",
    "<="
   ]
  },
  {
   "cell_type": "code",
   "execution_count": 112,
   "id": "8c33b3df",
   "metadata": {},
   "outputs": [
    {
     "name": "stdout",
     "output_type": "stream",
     "text": [
      "Enter first number: 5\n",
      "Enter operator: *\n",
      "Enter second number: 6.7\n",
      "33.5\n"
     ]
    }
   ],
   "source": [
    "num1 = float(input('Enter first number: '))\n",
    "op = input('Enter operator: ')\n",
    "num2 = float(input('Enter second number: '))\n",
    "\n",
    "if op == '+':\n",
    "    print(num1 + num2)\n",
    "elif op == '-':\n",
    "    print(num1 - num2)\n",
    "elif op == '/':\n",
    "    print(num1 / num2)\n",
    "elif op == '*':\n",
    "    print(num1 * num2)\n",
    "else:\n",
    "    print('Invalid operator')"
   ]
  },
  {
   "cell_type": "markdown",
   "id": "4ccb3cc9",
   "metadata": {},
   "source": [
    "# Dictionaries"
   ]
  },
  {
   "cell_type": "code",
   "execution_count": 113,
   "id": "11985953",
   "metadata": {},
   "outputs": [
    {
     "name": "stdout",
     "output_type": "stream",
     "text": [
      "November\n"
     ]
    }
   ],
   "source": [
    "monthConversions = {\n",
    "    'Jan': 'January', \n",
    "    'Feb': 'February', \n",
    "    'Mar': 'March',\n",
    "    'Apr': 'April',\n",
    "    'May': 'May',\n",
    "    'Jun': 'June',\n",
    "    'Jul': 'July',\n",
    "    'Aug': 'August',\n",
    "    'Sept': 'September',\n",
    "    'Oct': 'October',\n",
    "    'Nov': 'November',\n",
    "    'Dec': 'December',\n",
    "}\n",
    "\n",
    "print(monthConversions['Nov'])"
   ]
  },
  {
   "cell_type": "code",
   "execution_count": 114,
   "id": "c32b20e3",
   "metadata": {},
   "outputs": [
    {
     "name": "stdout",
     "output_type": "stream",
     "text": [
      "December\n"
     ]
    }
   ],
   "source": [
    "print(monthConversions.get('Dec'))"
   ]
  },
  {
   "cell_type": "code",
   "execution_count": 115,
   "id": "dfaa1811",
   "metadata": {},
   "outputs": [
    {
     "name": "stdout",
     "output_type": "stream",
     "text": [
      "Not a valid key\n"
     ]
    }
   ],
   "source": [
    "print(monthConversions.get('Luv', 'Not a valid key'))"
   ]
  },
  {
   "cell_type": "markdown",
   "id": "200f044e",
   "metadata": {},
   "source": [
    "# While loop"
   ]
  },
  {
   "cell_type": "code",
   "execution_count": 116,
   "id": "14f1b247",
   "metadata": {},
   "outputs": [
    {
     "name": "stdout",
     "output_type": "stream",
     "text": [
      "1\n",
      "2\n",
      "3\n",
      "4\n",
      "5\n",
      "6\n",
      "7\n",
      "8\n",
      "9\n",
      "10\n",
      "Done with loop\n"
     ]
    }
   ],
   "source": [
    "i = 1\n",
    "while i <= 10:\n",
    "    print(i)\n",
    "    i += 1\n",
    "    \n",
    "print('Done with loop')"
   ]
  },
  {
   "cell_type": "code",
   "execution_count": 117,
   "id": "23b4fcfb",
   "metadata": {},
   "outputs": [
    {
     "name": "stdout",
     "output_type": "stream",
     "text": [
      "Enter guess: cat\n",
      "Enter guess: dad\n",
      "Enter guess: sad\n",
      "Enter guess: giraffe\n",
      "You win!\n"
     ]
    }
   ],
   "source": [
    "secret_word = 'giraffe'\n",
    "guess = ''\n",
    "\n",
    "while guess != secret_word:\n",
    "    guess = input('Enter guess: ')\n",
    "print('You win!')    "
   ]
  },
  {
   "cell_type": "code",
   "execution_count": 119,
   "id": "a1b64979",
   "metadata": {},
   "outputs": [
    {
     "name": "stdout",
     "output_type": "stream",
     "text": [
      "Enter guess: car\n",
      "Enter guess: cat\n",
      "Enter guess: giraffe\n",
      "You win!\n"
     ]
    }
   ],
   "source": [
    "secret_word = 'giraffe' \n",
    "guess = ''\n",
    "guess_count = 0\n",
    "guess_limit = 3\n",
    "out_of_guesses = False\n",
    "\n",
    "while guess != secret_word and not(out_of_guesses):\n",
    "    if guess_count < guess_limit:\n",
    "        guess = input('Enter guess: ')\n",
    "        guess_count += 1\n",
    "    else:\n",
    "        out_of_guesses = True\n",
    "    \n",
    "    \n",
    "if out_of_guesses:\n",
    "    print('Out of guesses, YOU LOSE!')\n",
    "else:\n",
    "    print('You win!') "
   ]
  },
  {
   "cell_type": "markdown",
   "id": "7f76f545",
   "metadata": {},
   "source": [
    "# FOR loop"
   ]
  },
  {
   "cell_type": "code",
   "execution_count": 122,
   "id": "489fcbca",
   "metadata": {},
   "outputs": [
    {
     "name": "stdout",
     "output_type": "stream",
     "text": [
      "G\n",
      "i\n",
      "r\n",
      "a\n",
      "f\n",
      "f\n",
      "e\n",
      " \n",
      "A\n",
      "c\n",
      "a\n",
      "d\n",
      "e\n",
      "m\n",
      "y\n"
     ]
    }
   ],
   "source": [
    "for letter in 'Giraffe Academy':\n",
    "    print(letter)"
   ]
  },
  {
   "cell_type": "code",
   "execution_count": 126,
   "id": "89882a89",
   "metadata": {},
   "outputs": [
    {
     "name": "stdout",
     "output_type": "stream",
     "text": [
      "Jim\n",
      "Karen\n",
      "Kevin\n"
     ]
    }
   ],
   "source": [
    "friends = ['Jim', 'Karen', 'Kevin']\n",
    "for friend in friends:\n",
    "    print(friend)"
   ]
  },
  {
   "cell_type": "code",
   "execution_count": 127,
   "id": "fbd65c90",
   "metadata": {},
   "outputs": [
    {
     "name": "stdout",
     "output_type": "stream",
     "text": [
      "0\n",
      "1\n",
      "2\n",
      "3\n",
      "4\n",
      "5\n",
      "6\n",
      "7\n",
      "8\n",
      "9\n"
     ]
    }
   ],
   "source": [
    "for index in range(10):\n",
    "    print(index)"
   ]
  },
  {
   "cell_type": "code",
   "execution_count": 128,
   "id": "7f053bcd",
   "metadata": {},
   "outputs": [
    {
     "name": "stdout",
     "output_type": "stream",
     "text": [
      "3\n",
      "4\n",
      "5\n",
      "6\n",
      "7\n",
      "8\n",
      "9\n"
     ]
    }
   ],
   "source": [
    "for index in range(3, 10): # not uncluding 10\n",
    "    print(index)"
   ]
  },
  {
   "cell_type": "code",
   "execution_count": 131,
   "id": "a8b675af",
   "metadata": {},
   "outputs": [
    {
     "name": "stdout",
     "output_type": "stream",
     "text": [
      "Jim\n",
      "Karen\n",
      "Kevin\n"
     ]
    }
   ],
   "source": [
    "friends = ['Jim', 'Karen', 'Kevin']\n",
    "for index in range((len(friends))):\n",
    "    print(friends[index])"
   ]
  },
  {
   "cell_type": "code",
   "execution_count": 132,
   "id": "36c7cdd7",
   "metadata": {},
   "outputs": [
    {
     "name": "stdout",
     "output_type": "stream",
     "text": [
      "first Iteration\n",
      "Not first\n",
      "Not first\n",
      "Not first\n",
      "Not first\n"
     ]
    }
   ],
   "source": [
    "for index in range(5):\n",
    "    if index == 0:\n",
    "        print('first Iteration')\n",
    "    else:\n",
    "        print('Not first')"
   ]
  },
  {
   "cell_type": "markdown",
   "id": "b4e09679",
   "metadata": {},
   "source": [
    "# Exponent Function"
   ]
  },
  {
   "cell_type": "code",
   "execution_count": 133,
   "id": "e511499b",
   "metadata": {},
   "outputs": [
    {
     "name": "stdout",
     "output_type": "stream",
     "text": [
      "8\n"
     ]
    }
   ],
   "source": [
    "print(2**3)"
   ]
  },
  {
   "cell_type": "code",
   "execution_count": 136,
   "id": "fdc40895",
   "metadata": {},
   "outputs": [
    {
     "name": "stdout",
     "output_type": "stream",
     "text": [
      "8\n"
     ]
    }
   ],
   "source": [
    "def raise_to_power(base_num, pow_num):\n",
    "    result = 1\n",
    "    for index in range(pow_num):\n",
    "        result = result * base_num\n",
    "    return result\n",
    "\n",
    "print(raise_to_power(2,3))"
   ]
  },
  {
   "cell_type": "markdown",
   "id": "7bfd886c",
   "metadata": {},
   "source": [
    "# 2D Lists & Nested Loops"
   ]
  },
  {
   "cell_type": "code",
   "execution_count": 141,
   "id": "dbf3bc68",
   "metadata": {},
   "outputs": [
    {
     "name": "stdout",
     "output_type": "stream",
     "text": [
      "8\n"
     ]
    }
   ],
   "source": [
    "number_grid = [ #lists in lists (grid)\n",
    "    [1, 2, 3],\n",
    "    [4, 5, 6],\n",
    "    [7, 8, 9],\n",
    "    [0]\n",
    "]\n",
    "\n",
    "print(number_grid[2][1])"
   ]
  },
  {
   "cell_type": "code",
   "execution_count": 143,
   "id": "f5ad0e17",
   "metadata": {},
   "outputs": [
    {
     "name": "stdout",
     "output_type": "stream",
     "text": [
      "1\n",
      "2\n",
      "3\n",
      "4\n",
      "5\n",
      "6\n",
      "7\n",
      "8\n",
      "9\n",
      "0\n"
     ]
    }
   ],
   "source": [
    "for row in number_grid:\n",
    "    for col in row:\n",
    "        print(col)"
   ]
  },
  {
   "cell_type": "markdown",
   "id": "3e66a680",
   "metadata": {},
   "source": [
    "#translator\n",
    "\n",
    "vowels -> g\n",
    "\n",
    "dog -> dgg\n",
    "cat -> cgt"
   ]
  },
  {
   "cell_type": "code",
   "execution_count": 145,
   "id": "37bb4b15",
   "metadata": {},
   "outputs": [
    {
     "name": "stdout",
     "output_type": "stream",
     "text": [
      "Enter a phrase: to be or not to be\n",
      "tg bg gr ngt tg bg\n"
     ]
    }
   ],
   "source": [
    "def translate(phrase):\n",
    "    translation = ''\n",
    "    for letter in phrase:\n",
    "        if letter in \"AEIOUaeiou\":\n",
    "            translation = translation + 'g'\n",
    "        else:\n",
    "            translation = translation + letter\n",
    "    return translation\n",
    "\n",
    "print(translate(input('Enter a phrase: ')))"
   ]
  },
  {
   "cell_type": "code",
   "execution_count": 147,
   "id": "8e0b2f1b",
   "metadata": {},
   "outputs": [
    {
     "name": "stdout",
     "output_type": "stream",
     "text": [
      "Enter a phrase: On\n",
      "Gn\n"
     ]
    }
   ],
   "source": [
    "def translate(phrase):\n",
    "    translation = ''\n",
    "    for letter in phrase:\n",
    "        if letter.lower() in \"aeiou\":\n",
    "            if letter.isupper():\n",
    "                translation = translation + 'G'\n",
    "            else:\n",
    "                translation = translation + 'g'\n",
    "        else:\n",
    "            translation = translation + letter\n",
    "    return translation\n",
    "\n",
    "print(translate(input('Enter a phrase: ')))"
   ]
  },
  {
   "cell_type": "markdown",
   "id": "1813670a",
   "metadata": {},
   "source": [
    "# Try Except"
   ]
  },
  {
   "cell_type": "code",
   "execution_count": 152,
   "id": "c50f750c",
   "metadata": {},
   "outputs": [
    {
     "name": "stdout",
     "output_type": "stream",
     "text": [
      "Enter a number: jh\n",
      "Invalid Input\n"
     ]
    }
   ],
   "source": [
    "try:\n",
    "    number = int(input('Enter a number: '))\n",
    "    print(number)\n",
    "except:\n",
    "    print('Invalid Input')"
   ]
  },
  {
   "cell_type": "markdown",
   "id": "0fb9ea54",
   "metadata": {},
   "source": [
    "# Reading & Writing"
   ]
  },
  {
   "cell_type": "code",
   "execution_count": null,
   "id": "648587f9",
   "metadata": {},
   "outputs": [],
   "source": [
    "name_of_the_file = open('name of the file.txt', 'r') #'r' = read = only read; 'w' = write = you can change a file; 'a' = append, you can add new inf; 'r+' = read and write"
   ]
  },
  {
   "cell_type": "code",
   "execution_count": null,
   "id": "61ee9725",
   "metadata": {},
   "outputs": [],
   "source": [
    "name_of_the_file.close()"
   ]
  },
  {
   "cell_type": "code",
   "execution_count": null,
   "id": "28ae4aba",
   "metadata": {},
   "outputs": [],
   "source": [
    "name_of_the_file = open('name of the file.txt', 'r')\n",
    "print(name_of_the_file.readable()) # True/False\n",
    "print(name_of_the_file.read()) # show all inf in the file\n",
    "print(name_of_the_file.readline()) #read individual line\n",
    "print(name_of_the_file.readlines())  # taken each line and put it in an array\n",
    "print(name_of_the_file.readlines()[1])"
   ]
  },
  {
   "cell_type": "code",
   "execution_count": null,
   "id": "acf1a5c0",
   "metadata": {},
   "outputs": [],
   "source": [
    "name_of_the_file = open('name of the file.txt', 'r')\n",
    "for name in name_of_the_file.readlines():\n",
    "    print(name) #print each line in the file"
   ]
  },
  {
   "cell_type": "code",
   "execution_count": null,
   "id": "2b829947",
   "metadata": {},
   "outputs": [],
   "source": [
    "name_of_the_file = open('name of the file.txt', 'a') # if 'a' - attach ing in the end of the file, of 'w' - the file will be overwritten\n",
    "name_of_the_file.write('Toby - Human Resources') \n",
    "name_of_the_file.write('\\nKelly - Customer Servive') \n",
    "name_of_the_file.close()\n",
    "\n"
   ]
  },
  {
   "cell_type": "markdown",
   "id": "3cc348cd",
   "metadata": {},
   "source": [
    "# Modules and Pip; Classes and Objects"
   ]
  },
  {
   "cell_type": "code",
   "execution_count": 157,
   "id": "3085a21f",
   "metadata": {},
   "outputs": [],
   "source": [
    "import random"
   ]
  },
  {
   "cell_type": "code",
   "execution_count": 158,
   "id": "fcc390d2",
   "metadata": {},
   "outputs": [],
   "source": [
    "feet_in_mile = 5280\n",
    "meters_in_kilometer = 1000\n",
    "beatles= ['John Lennon', 'Paul McCartney', 'George Harrison', 'Ringo Star']"
   ]
  },
  {
   "cell_type": "code",
   "execution_count": null,
   "id": "18181e55",
   "metadata": {},
   "outputs": [],
   "source": [
    "def get_file_ext(filename):\n",
    "    return filename[filename.index('.') + 1:]"
   ]
  },
  {
   "cell_type": "code",
   "execution_count": null,
   "id": "a24965bc",
   "metadata": {},
   "outputs": [],
   "source": [
    "def roll_dice(num):\n",
    "    return random.randint(1, num)"
   ]
  },
  {
   "cell_type": "markdown",
   "id": "b9be8f13",
   "metadata": {},
   "source": [
    "import useful_tools #useful_tools = name of the file\n",
    "print(useful_tool.roll_dice(10))\n",
    "#python module index"
   ]
  },
  {
   "cell_type": "code",
   "execution_count": 161,
   "id": "51e6259a",
   "metadata": {},
   "outputs": [],
   "source": [
    "class Student:\n",
    "    def __init__(self, name, major, gpa, is_on_probation):\n",
    "        self.name = name\n",
    "        self.major - major\n",
    "        self.gpa = gpa\n",
    "        self.is_on_probation = is_on_probation       "
   ]
  },
  {
   "cell_type": "code",
   "execution_count": null,
   "id": "a62e4ac4",
   "metadata": {},
   "outputs": [],
   "source": [
    "from Student import Student # first Student = file, the second = real Student"
   ]
  },
  {
   "cell_type": "markdown",
   "id": "d61d035d",
   "metadata": {},
   "source": [
    "student1 = Student('Jim', 'Business', 3.1, False) # object = actuall student\n",
    "student2 = Student('Pam', 'Art', 2.5, True) "
   ]
  },
  {
   "cell_type": "markdown",
   "id": "cddc100d",
   "metadata": {},
   "source": [
    "print(student1.name)"
   ]
  },
  {
   "cell_type": "code",
   "execution_count": null,
   "id": "f5a5b743",
   "metadata": {},
   "outputs": [],
   "source": []
  },
  {
   "cell_type": "markdown",
   "id": "1ed82724",
   "metadata": {},
   "source": [
    "# Problems"
   ]
  },
  {
   "cell_type": "code",
   "execution_count": null,
   "id": "ed33ebae",
   "metadata": {},
   "outputs": [],
   "source": [
    "# Распродажа\n",
    "В магазине проходит акция:\n",
    "На все товары дешевле 1000 рублей скидка 15%\n",
    "На все товары дороже 1000, но дешевле 5000 рублей скидка 20%\n",
    "На все товары дороже 5000 рублей скидка 25%\n",
    "Ввод\n",
    "Целое неотрицательное число - цена товара в рублях\n",
    "Вывод\n",
    "Целое неотрицательное число - скидка на товар в рублях"
   ]
  },
  {
   "cell_type": "code",
   "execution_count": 166,
   "id": "84b124f8",
   "metadata": {},
   "outputs": [
    {
     "name": "stdout",
     "output_type": "stream",
     "text": [
      "9500\n",
      "2375.0\n"
     ]
    }
   ],
   "source": [
    "price = int(input())\n",
    "\n",
    "if price > 5000:\n",
    "    print(price * 0.25)\n",
    "elif price > 1000:\n",
    "    print(price * 0.20)\n",
    "else:\n",
    "    print(price * 0.15)"
   ]
  },
  {
   "cell_type": "code",
   "execution_count": null,
   "id": "32e6de9c",
   "metadata": {},
   "outputs": [],
   "source": [
    "Напоминание про работу со строками:\n",
    "len(s) - определить длину строки s\n",
    "s[i] - получить i-ый символ строки (нумерация с нуля, i - положительное), в случае отрицательного i нумерация идет справа-налево, начиная с -1, например, s[-1] - это последний символ строки\n",
    "s[i:j] - получить все символы с i-го включительно по j-ый не включительно\n",
    "s[:i] - все символы до i-го не включительно\n",
    "s[i:] - все символы, начиная с i-го включительно\n",
    "s[i:j:k] - все символы с i-го включитель по j-ый не включительно с шагом k, если шаг отрицательный, то i должно указывать на символ стоящий правее, чем j\n",
    "Задача:\n",
    "Дана строка.\n",
    "Сначала выведите третий символ этой строки (считая, что нумерация символов начинается с 1).\n",
    "Во второй строке выведите предпоследний символ этой строки.\n",
    "В третьей строке выведите первые пять символов этой строки.\n",
    "В четвертой строке выведите всю строку, кроме последних двух символов.\n",
    "В пятой строке выведите все символы с четными индексами (считая, что индексация начинается с 0).\n",
    "В шестой строке выведите все символы с нечетными индексами (считая, что индексация начинается с 0).\n",
    "В седьмой строке выведите все символы в обратном порядке.\n",
    "В восьмой строке выведите все символы строки через один в обратном порядке, начиная с последнего.\n",
    "В девятой строке выведите длину данной строки.\n",
    "\n",
    "Ввод:\n",
    "Abrakadabra\n",
    "Вывод:\n",
    "r r\n",
    "Abrak\n",
    "Abrakadab\n",
    "Arkdba\n",
    "baaar\n",
    "arbadakarbA\n",
    "abdkrA\n",
    "11"
   ]
  },
  {
   "cell_type": "code",
   "execution_count": 172,
   "id": "da936f3d",
   "metadata": {},
   "outputs": [
    {
     "name": "stdout",
     "output_type": "stream",
     "text": [
      "r\n"
     ]
    }
   ],
   "source": [
    "word = 'Abrakadabra'\n",
    "print(word[2])"
   ]
  },
  {
   "cell_type": "code",
   "execution_count": 179,
   "id": "4ed96d0f",
   "metadata": {},
   "outputs": [
    {
     "name": "stdout",
     "output_type": "stream",
     "text": [
      "11\n"
     ]
    }
   ],
   "source": [
    "print(len(word))"
   ]
  },
  {
   "cell_type": "code",
   "execution_count": 173,
   "id": "1bcfb597",
   "metadata": {},
   "outputs": [
    {
     "name": "stdout",
     "output_type": "stream",
     "text": [
      "r\n"
     ]
    }
   ],
   "source": [
    "print(word[-2])"
   ]
  },
  {
   "cell_type": "code",
   "execution_count": 178,
   "id": "6f985fa9",
   "metadata": {},
   "outputs": [
    {
     "name": "stdout",
     "output_type": "stream",
     "text": [
      "Abrak\n"
     ]
    }
   ],
   "source": [
    "print(word[:5])"
   ]
  },
  {
   "cell_type": "code",
   "execution_count": 175,
   "id": "35441223",
   "metadata": {},
   "outputs": [
    {
     "name": "stdout",
     "output_type": "stream",
     "text": [
      "Abrakadab\n"
     ]
    }
   ],
   "source": [
    "print(word[:-2])"
   ]
  },
  {
   "cell_type": "code",
   "execution_count": 182,
   "id": "0480d80d",
   "metadata": {},
   "outputs": [
    {
     "name": "stdout",
     "output_type": "stream",
     "text": [
      "baaar\n"
     ]
    }
   ],
   "source": [
    "print(word[1:11:2])"
   ]
  },
  {
   "cell_type": "code",
   "execution_count": 183,
   "id": "6638c334",
   "metadata": {},
   "outputs": [
    {
     "name": "stdout",
     "output_type": "stream",
     "text": [
      "Arkdba\n"
     ]
    }
   ],
   "source": [
    "print(word[0:11:2])"
   ]
  },
  {
   "cell_type": "code",
   "execution_count": 186,
   "id": "962a02c5",
   "metadata": {},
   "outputs": [
    {
     "name": "stdout",
     "output_type": "stream",
     "text": [
      "arbadakarbA\n"
     ]
    }
   ],
   "source": [
    "print(word[::-1])"
   ]
  },
  {
   "cell_type": "code",
   "execution_count": 190,
   "id": "be14ac71",
   "metadata": {},
   "outputs": [
    {
     "name": "stdout",
     "output_type": "stream",
     "text": [
      "abdkrA\n"
     ]
    }
   ],
   "source": [
    "print(word[::-2])"
   ]
  },
  {
   "cell_type": "markdown",
   "id": "e8fa2390",
   "metadata": {},
   "source": [
    "# 2"
   ]
  },
  {
   "cell_type": "code",
   "execution_count": null,
   "id": "42ac0ab9",
   "metadata": {},
   "outputs": [],
   "source": [
    "Используя список girls, выведите на экран с помощью срезов следующие списки:\n",
    "[\"Виолетта\", \"Кассандра\", \"Вирджиния\", \"Амелия\"]\n",
    "[\"Вирджиния\", \"Амелия\", \"Розамунда\", \"Янина\", \"Беатриса\"]\n",
    "[\"Иветта\", \"Виолетта\", \"Вирджиния\", \"Амелия\"]\n",
    "[\"Кассандра\", \"Амелия\", \"Розамунда\"]"
   ]
  },
  {
   "cell_type": "code",
   "execution_count": 191,
   "id": "86d1bbbe",
   "metadata": {},
   "outputs": [],
   "source": [
    "girls = ['Ольга', \"Иветта\", \"Виолетта\", \"Кассандра\", \"Вирджиния\", \n",
    "         \"Амелия\", \"Розамунда\", \"Янина\", \"Беатриса\"]"
   ]
  },
  {
   "cell_type": "code",
   "execution_count": 192,
   "id": "7e72b02e",
   "metadata": {},
   "outputs": [
    {
     "name": "stdout",
     "output_type": "stream",
     "text": [
      "['Виолетта', 'Кассандра', 'Вирджиния', 'Амелия']\n"
     ]
    }
   ],
   "source": [
    "print(girls[2:6])"
   ]
  },
  {
   "cell_type": "code",
   "execution_count": 193,
   "id": "9da68930",
   "metadata": {},
   "outputs": [
    {
     "name": "stdout",
     "output_type": "stream",
     "text": [
      "['Вирджиния', 'Амелия', 'Розамунда', 'Янина', 'Беатриса']\n"
     ]
    }
   ],
   "source": [
    "print(girls[4:])"
   ]
  },
  {
   "cell_type": "code",
   "execution_count": 199,
   "id": "051b299f",
   "metadata": {},
   "outputs": [
    {
     "name": "stdout",
     "output_type": "stream",
     "text": [
      "['Иветта', 'Виолетта', 'Вирджиния', 'Амелия']\n"
     ]
    }
   ],
   "source": [
    "print(girls[1:3] + girls[4:6])"
   ]
  },
  {
   "cell_type": "code",
   "execution_count": 202,
   "id": "1076f375",
   "metadata": {},
   "outputs": [
    {
     "name": "stdout",
     "output_type": "stream",
     "text": [
      "['Кассандра', 'Амелия', 'Розамунда']\n"
     ]
    }
   ],
   "source": [
    "print(girls[3:4] + girls[5:7])"
   ]
  },
  {
   "cell_type": "markdown",
   "id": "a284bed9",
   "metadata": {},
   "source": [
    "# Задание 4\n",
    "\n",
    "Реализуйте код для обеих блок-схем в условии задачи\n",
    "![](https://github.com/rogovich/Data/blob/master/img/1.png?raw=true)"
   ]
  },
  {
   "cell_type": "code",
   "execution_count": 207,
   "id": "3110623a",
   "metadata": {},
   "outputs": [
    {
     "name": "stdout",
     "output_type": "stream",
     "text": [
      "Введите оценку: 9\n",
      "Это нормально\n"
     ]
    }
   ],
   "source": [
    "mark = int(input(\"Введите оценку: \"))\n",
    "if mark < 10:\n",
    "    print('Это нормально')\n",
    "elif mark == 10:\n",
    "    print('Это отлично')\n",
    "\n",
    "if mark < 6:\n",
    "    print('Плохо')\n",
    "    "
   ]
  },
  {
   "cell_type": "markdown",
   "id": "1f3defdb",
   "metadata": {},
   "source": [
    "![](https://github.com/rogovich/Data/blob/master/img/2.png?raw=true)"
   ]
  },
  {
   "cell_type": "code",
   "execution_count": 213,
   "id": "f6e0238c",
   "metadata": {},
   "outputs": [
    {
     "name": "stdout",
     "output_type": "stream",
     "text": [
      "Введите оценку: 8\n",
      "Это нормально\n"
     ]
    }
   ],
   "source": [
    "mark = int(input(\"Введите оценку: \"))\n",
    "\n",
    "if mark < 6:\n",
    "    print('Это плохо')\n",
    "elif mark < 10:\n",
    "    print('Это нормально')\n",
    "elif mark == 10:\n",
    "    print('Это отлично')   "
   ]
  },
  {
   "cell_type": "markdown",
   "id": "bf615f40",
   "metadata": {},
   "source": [
    "# Задание 5\n",
    "Даны три целых числа. Определите, сколько среди них совпадающих. Программа должна вывести одно из чисел: 3 (если все совпадают), 2 (если два совпадает) или 0 (если все числа различны).\n",
    "Формат ввода\n",
    "Вводятся три целых числа\n",
    "Формат вывода\n",
    "Целое число"
   ]
  },
  {
   "cell_type": "code",
   "execution_count": 221,
   "id": "4d84add5",
   "metadata": {},
   "outputs": [
    {
     "name": "stdout",
     "output_type": "stream",
     "text": [
      "Enter number: 1\n",
      "Enter number: 2\n",
      "Enter number: 3\n",
      "0\n"
     ]
    }
   ],
   "source": [
    "num1 = int(input(\"Enter number: \"))\n",
    "num2 = int(input(\"Enter number: \"))\n",
    "num3 = int(input(\"Enter number: \"))\n",
    "\n",
    "if num1==num2==num3:\n",
    "    print('3')\n",
    "elif num1 == num2 or num1==num3 or num2==num3:\n",
    "    print('2')\n",
    "else:\n",
    "    print('0')"
   ]
  },
  {
   "cell_type": "markdown",
   "id": "11db2c99",
   "metadata": {},
   "source": [
    "# 6 \n",
    "Дано целое число, не меньшее 2. Выведите его наименьший натуральный делитель, отличный от 1.\n",
    "Формат ввода\n",
    "Вводится целое положительное число\n",
    "Формат вывода\n",
    "Выведите ответ на задачу\n",
    "Пример\n",
    "Ввод\n",
    "15\n",
    "Вывод\n",
    "3"
   ]
  },
  {
   "cell_type": "code",
   "execution_count": 222,
   "id": "41965d9b",
   "metadata": {},
   "outputs": [
    {
     "name": "stdout",
     "output_type": "stream",
     "text": [
      "15\n",
      "3\n"
     ]
    }
   ],
   "source": [
    "x = int(input())\n",
    "number = 2\n",
    "\n",
    "while number <= x:\n",
    "    if x % number == 0:\n",
    "        print(number)\n",
    "        break\n",
    "    else:\n",
    "        number += 1"
   ]
  },
  {
   "cell_type": "markdown",
   "id": "38885f1c",
   "metadata": {},
   "source": [
    "## Задание 7\n",
    "Вася начал бегать и в первый день он пробежал X километров и выдохся. Вася поставил себе цель Y километров и решил узнать, когда он ее достигнет, если каждый день будет бегать дистанцию на 10% больше, чем в предыдущий.\n",
    "\n",
    "**Формат ввода**\n",
    "\n",
    "Программа получает на вход целые числа X, Y\n",
    "\n",
    "**Формат вывода**\n",
    "\n",
    "Одно целое число (день, когда Вася пробежит свою цель)\n",
    "\n",
    "\n",
    "**Примеры**\n",
    "\n",
    "Ввод:\n",
    "10\n",
    "21\n",
    "\n",
    "Вывод:\n",
    "9"
   ]
  },
  {
   "cell_type": "code",
   "execution_count": 223,
   "id": "094f26c1",
   "metadata": {},
   "outputs": [
    {
     "name": "stdout",
     "output_type": "stream",
     "text": [
      "10\n",
      "21\n",
      "9\n"
     ]
    }
   ],
   "source": [
    "x = int(input())\n",
    "y = int(input())\n",
    "day = 1\n",
    "while x < y:\n",
    "    x += 0.1*x\n",
    "    day += 1\n",
    "print(day)\n",
    "\n"
   ]
  },
  {
   "cell_type": "markdown",
   "id": "37cd9b92",
   "metadata": {},
   "source": [
    "## Задание 8\n",
    "\n",
    "По данному целому числу N распечатайте все квадраты натуральных (целых, положительных) чисел, не превосходящие N, в порядке возрастания. Обратите внимание, что если N является полным квадратом, то его тоже нужно печатать.\n",
    "\n",
    "**Ввод:**\n",
    "\n",
    "50\n",
    "\n",
    "**Вывод:**  \n",
    "1  \n",
    "4  \n",
    "9  \n",
    "16  \n",
    "25  \n",
    "36  \n",
    "49  "
   ]
  },
  {
   "cell_type": "code",
   "execution_count": 224,
   "id": "9881c1a6",
   "metadata": {},
   "outputs": [
    {
     "name": "stdout",
     "output_type": "stream",
     "text": [
      "50\n",
      "1\n",
      "4\n",
      "9\n",
      "16\n",
      "25\n",
      "36\n",
      "49\n"
     ]
    }
   ],
   "source": [
    "n = int(input())\n",
    "x = 1\n",
    "while True:\n",
    "    x_sq = x ** 2\n",
    "    if x_sq <= n:\n",
    "        print(x_sq)\n",
    "        x += 1    \n",
    "    else:\n",
    "        break"
   ]
  },
  {
   "cell_type": "code",
   "execution_count": 225,
   "id": "9c63c017",
   "metadata": {},
   "outputs": [],
   "source": [
    "first = [11.25, 18.0, 20.0]\n",
    "second = [10.75, 9.50]"
   ]
  },
  {
   "cell_type": "code",
   "execution_count": 231,
   "id": "a01d36a7",
   "metadata": {},
   "outputs": [
    {
     "name": "stdout",
     "output_type": "stream",
     "text": [
      "2\n",
      "1\n"
     ]
    }
   ],
   "source": [
    "# Create list areas\n",
    "areas = [11.25, 18.0, 20.0, 10.75, 9.50]\n",
    "\n",
    "# Print out the index of the element 20.0\n",
    "print(areas.index(20.0))\n",
    "\n",
    "# Print out how often 9.50 appears in areas\n",
    "print(areas.count(9.50))\n"
   ]
  },
  {
   "cell_type": "code",
   "execution_count": 233,
   "id": "3fb75c5e",
   "metadata": {},
   "outputs": [
    {
     "name": "stdout",
     "output_type": "stream",
     "text": [
      "Circumference: 2.701769682087222\n",
      "Area: 0.5808804816487527\n"
     ]
    }
   ],
   "source": [
    "r = 0.43\n",
    "\n",
    "# Import the math package\n",
    "import math\n",
    "math.pi\n",
    "# Calculate C\n",
    "C = 2 * pi * r\n",
    "\n",
    "# Calculate A\n",
    "A = pi * r ** 2\n",
    "\n",
    "# Build printout\n",
    "print(\"Circumference: \" + str(C))\n",
    "print(\"Area: \" + str(A))"
   ]
  },
  {
   "cell_type": "markdown",
   "id": "ce4f49f3",
   "metadata": {},
   "source": [
    "# Задание 10\n",
    "Последовательность состоит из натуральных чисел, не превосходящих 109, и завершается числом 0. Определите значение наибольшего элемента последовательности.\n",
    "\n",
    "Вввод: Вводится последовательность целых чисел, оканчивающаяся числом 0 (само число 0 в последовательность не входит, а служит как признак ее окончания).\n",
    "\n",
    "Вывод: Выведите ответ на задачу."
   ]
  },
  {
   "cell_type": "code",
   "execution_count": 248,
   "id": "8bd05560",
   "metadata": {},
   "outputs": [
    {
     "name": "stdout",
     "output_type": "stream",
     "text": [
      "7\n",
      "4\n",
      "66\n",
      "0\n",
      "66\n"
     ]
    }
   ],
   "source": [
    "n_max = int(input())\n",
    "\n",
    "while True:\n",
    "    n = int(input())\n",
    "    \n",
    "    if n == 0:\n",
    "        break\n",
    "    else:\n",
    "        if n > n_max:\n",
    "            n_max = n\n",
    "print(n_max)"
   ]
  },
  {
   "cell_type": "markdown",
   "id": "821ab46f",
   "metadata": {},
   "source": [
    "# NUMPY"
   ]
  },
  {
   "cell_type": "code",
   "execution_count": 249,
   "id": "970391ce",
   "metadata": {},
   "outputs": [],
   "source": [
    "import numpy as np\n",
    "scores = np.array([[20, 40, 56, 80, 0, 5, 25, 27, 74, 1],\n",
    "         [0, 98, 67, 100, 8, 56, 34, 82, 100, 7],\n",
    "         [78, 54, 23, 79, 100, 0, 0, 42, 95, 83],\n",
    "         [51, 50, 47, 23, 100, 94, 25, 48, 38, 77],\n",
    "         [90, 87, 41, 89, 52, 0, 5, 17, 28, 99],\n",
    "         [32, 18, 21, 18, 29, 31, 48, 62, 76, 22],\n",
    "         [6, 0, 65, 78, 43, 22, 38, 88, 94, 100],\n",
    "         [77, 28, 39, 41, 0, 81, 45, 54, 98, 12],\n",
    "         [66, 0, 88, 0, 44, 0, 55, 100, 12, 11],\n",
    "         [17, 70, 86, 96, 56, 23, 32, 49, 70, 80],\n",
    "         [20, 24, 76, 50, 29, 40, 3, 2, 5, 11],\n",
    "         [33, 63, 28, 40, 51, 100, 98, 87, 22, 30],\n",
    "         [16, 54, 78, 12, 25, 35, 10, 19, 67, 0],\n",
    "         [100, 88, 24, 33, 47, 56, 62, 34, 77, 53],\n",
    "         [50, 89, 70, 72, 56, 29, 15, 20, 0, 0]])"
   ]
  },
  {
   "cell_type": "code",
   "execution_count": 250,
   "id": "c12bc970",
   "metadata": {},
   "outputs": [
    {
     "data": {
      "text/plain": [
       "13"
      ]
     },
     "execution_count": 250,
     "metadata": {},
     "output_type": "execute_result"
    }
   ],
   "source": [
    "(scores == 0).sum()"
   ]
  },
  {
   "cell_type": "code",
   "execution_count": 251,
   "id": "f84dc168",
   "metadata": {},
   "outputs": [
    {
     "data": {
      "text/plain": [
       "64"
      ]
     },
     "execution_count": 251,
     "metadata": {},
     "output_type": "execute_result"
    }
   ],
   "source": [
    "(scores > 50).sum()"
   ]
  },
  {
   "cell_type": "code",
   "execution_count": 255,
   "id": "5cda1720",
   "metadata": {},
   "outputs": [
    {
     "data": {
      "text/plain": [
       "23"
      ]
     },
     "execution_count": 255,
     "metadata": {},
     "output_type": "execute_result"
    }
   ],
   "source": [
    "((scores >= 50) & (scores < 70)).sum()"
   ]
  },
  {
   "cell_type": "code",
   "execution_count": 260,
   "id": "6807e325",
   "metadata": {},
   "outputs": [
    {
     "data": {
      "text/plain": [
       "10"
      ]
     },
     "execution_count": 260,
     "metadata": {},
     "output_type": "execute_result"
    }
   ],
   "source": [
    "np.argmax(np.mean(scores, axis=1))+1"
   ]
  },
  {
   "cell_type": "code",
   "execution_count": 261,
   "id": "b5d48a9e",
   "metadata": {},
   "outputs": [],
   "source": [
    "nonzero = scores[scores > 0]"
   ]
  },
  {
   "cell_type": "code",
   "execution_count": 262,
   "id": "cb29e650",
   "metadata": {},
   "outputs": [
    {
     "data": {
      "text/plain": [
       "1"
      ]
     },
     "execution_count": 262,
     "metadata": {},
     "output_type": "execute_result"
    }
   ],
   "source": [
    "nonzero.min()"
   ]
  },
  {
   "cell_type": "code",
   "execution_count": 264,
   "id": "2bf4013f",
   "metadata": {},
   "outputs": [],
   "source": [
    "advanced = nonzero[nonzero > 80]"
   ]
  },
  {
   "cell_type": "code",
   "execution_count": 266,
   "id": "22d997ee",
   "metadata": {},
   "outputs": [
    {
     "data": {
      "text/plain": [
       "(28,)"
      ]
     },
     "execution_count": 266,
     "metadata": {},
     "output_type": "execute_result"
    }
   ],
   "source": [
    "advanced.shape"
   ]
  },
  {
   "cell_type": "code",
   "execution_count": 267,
   "id": "235337a9",
   "metadata": {},
   "outputs": [
    {
     "data": {
      "text/plain": [
       "1"
      ]
     },
     "execution_count": 267,
     "metadata": {},
     "output_type": "execute_result"
    }
   ],
   "source": [
    "advanced.ndim"
   ]
  },
  {
   "cell_type": "code",
   "execution_count": 268,
   "id": "a589e40f",
   "metadata": {},
   "outputs": [
    {
     "data": {
      "text/plain": [
       "28"
      ]
     },
     "execution_count": 268,
     "metadata": {},
     "output_type": "execute_result"
    }
   ],
   "source": [
    "advanced.size"
   ]
  },
  {
   "cell_type": "code",
   "execution_count": 271,
   "id": "27550414",
   "metadata": {},
   "outputs": [
    {
     "data": {
      "text/plain": [
       "array([False,  True, False,  True,  True, False, False,  True, False,\n",
       "       False, False, False, False, False, False,  True, False, False,\n",
       "       False,  True, False, False,  True, False, False,  True, False,\n",
       "       False])"
      ]
     },
     "execution_count": 271,
     "metadata": {},
     "output_type": "execute_result"
    }
   ],
   "source": [
    "sto = advanced == 100\n",
    "sto"
   ]
  },
  {
   "cell_type": "code",
   "execution_count": 272,
   "id": "40d6a919",
   "metadata": {},
   "outputs": [
    {
     "data": {
      "text/plain": [
       "array([[ 20,  40,  56,  80,   0,   5,  25,  27,  74,   1],\n",
       "       [  0,  98,  67, 100,   8,  56,  34,  82, 100,   7],\n",
       "       [ 78,  54,  23,  79, 100,   0,   0,  42,  95,  83],\n",
       "       [ 51,  50,  47,  23, 100,  94,  25,  48,  38,  77],\n",
       "       [ 90,  87,  41,  89,  52,   0,   5,  17,  28,  99],\n",
       "       [ 32,  18,  21,  18,  29,  31,  48,  62,  76,  22],\n",
       "       [  6,   0,  65,  78,  43,  22,  38,  88,  94, 100]])"
      ]
     },
     "execution_count": 272,
     "metadata": {},
     "output_type": "execute_result"
    }
   ],
   "source": [
    "scores[:7]"
   ]
  },
  {
   "cell_type": "code",
   "execution_count": 275,
   "id": "57cd0de3",
   "metadata": {},
   "outputs": [
    {
     "name": "stdout",
     "output_type": "stream",
     "text": [
      "[[  2.71153373  -9.20504283 -13.38763951 ...   9.97495296   2.01261671\n",
      "   -5.61531925]\n",
      " [-25.45028952   1.58274451  -4.70946231 ...   4.49593146  -9.97778601\n",
      "    9.58026405]\n",
      " [  2.65454172   9.97163257  -8.98859548 ...  -3.20557205  -1.71948285\n",
      "    0.71877695]\n",
      " ...\n",
      " [  0.36064091   6.48445624  -6.4974684  ...   7.23658143   8.47007073\n",
      "   -5.01544688]\n",
      " [ -8.24735111  -3.77702777  -2.00180987 ...  14.19770444   0.43938892\n",
      "   -6.68100956]\n",
      " [ 25.36814054  14.56895369   0.80312119 ...   2.70477982  -2.77260368\n",
      "  -19.1289618 ]]\n"
     ]
    }
   ],
   "source": [
    "x = np.random.normal (loc=1, scale=10, size=(1000,50)) #генерация случайной матрицы\n",
    "print(x)"
   ]
  },
  {
   "cell_type": "code",
   "execution_count": 277,
   "id": "d4c67558",
   "metadata": {},
   "outputs": [
    {
     "data": {
      "text/plain": [
       "array([0.97516208, 1.23023844, 1.13719571, 1.08401444, 1.02716151,\n",
       "       0.96904133, 0.52163616, 1.25439832, 1.17553435, 1.24855524,\n",
       "       0.83259522, 1.09754091, 0.99727672, 0.66630202, 0.73824383,\n",
       "       0.81770511, 0.40305159, 1.51774123, 1.19417558, 1.5603186 ,\n",
       "       0.66804971, 1.13290302, 0.57202549, 0.93231837, 0.32038648,\n",
       "       1.08017151, 0.49526943, 0.95808588, 1.19112171, 1.1270842 ,\n",
       "       0.71994687, 1.22319043, 0.993704  , 1.07139176, 0.8969065 ,\n",
       "       1.27332922, 0.22136491, 0.95637776, 0.87703421, 0.69716453,\n",
       "       0.29157417, 1.11954347, 1.33239064, 0.65151163, 0.64453059,\n",
       "       1.67611231, 1.02911183, 1.28061543, 1.09701053, 0.92254514])"
      ]
     },
     "execution_count": 277,
     "metadata": {},
     "output_type": "execute_result"
    }
   ],
   "source": [
    "m = np.mean(x, axis=0)\n",
    "m"
   ]
  },
  {
   "cell_type": "code",
   "execution_count": 278,
   "id": "ef00b3b4",
   "metadata": {},
   "outputs": [
    {
     "data": {
      "text/plain": [
       "array([10.09481425,  9.90569372,  9.78720331,  9.99131863, 10.47606645,\n",
       "        9.91936531,  9.7109252 , 10.20265984, 10.19298319, 10.37021167,\n",
       "        9.75973239, 10.02969966, 10.25760983,  9.92051905, 10.49864749,\n",
       "        9.94999563,  9.9306019 , 10.03634216, 10.14567422,  9.91665382,\n",
       "        9.86183765,  9.78254744,  9.76120099, 10.4462673 , 10.01808805,\n",
       "       10.03239993, 10.1185413 , 10.07465808, 10.28527412,  9.97398509,\n",
       "        9.9986198 ,  9.81807903,  9.92470023,  9.89335822,  9.50871331,\n",
       "       10.0759289 ,  9.51376236, 10.28030571,  9.99503706,  9.92071075,\n",
       "       10.10401859,  9.82536994, 10.22168332, 10.40277229, 10.20712252,\n",
       "        9.61433365, 10.18096926, 10.1439805 , 10.16040344,  9.88728397])"
      ]
     },
     "execution_count": 278,
     "metadata": {},
     "output_type": "execute_result"
    }
   ],
   "source": [
    "std = np.std(x, axis = 0)\n",
    "std"
   ]
  },
  {
   "cell_type": "code",
   "execution_count": 279,
   "id": "3cbae1f8",
   "metadata": {},
   "outputs": [
    {
     "data": {
      "text/plain": [
       "array([[ 0.1720063 , -1.05346295, -1.48406391, ...,  0.85709328,\n",
       "         0.09011514, -0.66123967],\n",
       "       [-2.61772539,  0.03558621, -0.5973778 , ...,  0.31696788,\n",
       "        -1.08999575,  0.87564178],\n",
       "       [ 0.16636063,  0.88246158, -1.03459496, ..., -0.44225119,\n",
       "        -0.27720291, -0.02060912],\n",
       "       ...,\n",
       "       [-0.06087494,  0.53042401, -0.78006596, ...,  0.58714289,\n",
       "         0.72566609, -0.60056857],\n",
       "       [-0.91358919, -0.50549375, -0.32072549, ...,  1.27337479,\n",
       "        -0.06472397, -0.7690236 ],\n",
       "       [ 2.41638705,  1.34657053, -0.03413381, ...,  0.14039502,\n",
       "        -0.38085242, -2.02800961]])"
      ]
     },
     "execution_count": 279,
     "metadata": {},
     "output_type": "execute_result"
    }
   ],
   "source": [
    "x_norm = ((x-m) / std) # нормировка таблицы\n",
    "x_norm"
   ]
  },
  {
   "cell_type": "code",
   "execution_count": 280,
   "id": "eb90ee6b",
   "metadata": {},
   "outputs": [],
   "source": [
    "Z = np.array([[4, 5, 0], \n",
    "             [1, 9, 3],              \n",
    "             [5, 1, 1],\n",
    "             [3, 3, 3], \n",
    "             [9, 9, 9], \n",
    "             [4, 7, 1]])"
   ]
  },
  {
   "cell_type": "code",
   "execution_count": 281,
   "id": "e1e2bb3e",
   "metadata": {},
   "outputs": [
    {
     "name": "stdout",
     "output_type": "stream",
     "text": [
      "(array([1, 4, 5]),)\n"
     ]
    }
   ],
   "source": [
    "r = np.sum(Z, axis=1)\n",
    "print(np.nonzero(r>10))"
   ]
  },
  {
   "cell_type": "code",
   "execution_count": 282,
   "id": "7f0fb3f5",
   "metadata": {},
   "outputs": [
    {
     "name": "stdout",
     "output_type": "stream",
     "text": [
      "[[1. 0. 0.]\n",
      " [0. 1. 0.]\n",
      " [0. 0. 1.]]\n",
      "[[1. 0. 0.]\n",
      " [0. 1. 0.]\n",
      " [0. 0. 1.]]\n"
     ]
    }
   ],
   "source": [
    "A = np.eye(3)\n",
    "B = np.eye(3)\n",
    "print(A)\n",
    "print(B)"
   ]
  },
  {
   "cell_type": "code",
   "execution_count": 283,
   "id": "f1a234d6",
   "metadata": {},
   "outputs": [
    {
     "name": "stdout",
     "output_type": "stream",
     "text": [
      "[[1. 0. 0.]\n",
      " [0. 1. 0.]\n",
      " [0. 0. 1.]\n",
      " [1. 0. 0.]\n",
      " [0. 1. 0.]\n",
      " [0. 0. 1.]]\n"
     ]
    }
   ],
   "source": [
    "AB = np.vstack((A,B))\n",
    "print(AB)"
   ]
  },
  {
   "cell_type": "code",
   "execution_count": null,
   "id": "decab050",
   "metadata": {},
   "outputs": [],
   "source": []
  },
  {
   "cell_type": "code",
   "execution_count": 290,
   "id": "647df273",
   "metadata": {},
   "outputs": [],
   "source": [
    "import pandas as pd"
   ]
  },
  {
   "cell_type": "code",
   "execution_count": 297,
   "id": "b10cf29d",
   "metadata": {},
   "outputs": [
    {
     "data": {
      "text/html": [
       "<div>\n",
       "<style scoped>\n",
       "    .dataframe tbody tr th:only-of-type {\n",
       "        vertical-align: middle;\n",
       "    }\n",
       "\n",
       "    .dataframe tbody tr th {\n",
       "        vertical-align: top;\n",
       "    }\n",
       "\n",
       "    .dataframe thead th {\n",
       "        text-align: right;\n",
       "    }\n",
       "</style>\n",
       "<table border=\"1\" class=\"dataframe\">\n",
       "  <thead>\n",
       "    <tr style=\"text-align: right;\">\n",
       "      <th></th>\n",
       "      <th>Survived</th>\n",
       "      <th>Pclass</th>\n",
       "      <th>Name</th>\n",
       "      <th>Sex</th>\n",
       "      <th>Age</th>\n",
       "      <th>SibSp</th>\n",
       "      <th>Parch</th>\n",
       "      <th>Ticket</th>\n",
       "      <th>Fare</th>\n",
       "      <th>Cabin</th>\n",
       "      <th>Embarked</th>\n",
       "    </tr>\n",
       "    <tr>\n",
       "      <th>PassengerId</th>\n",
       "      <th></th>\n",
       "      <th></th>\n",
       "      <th></th>\n",
       "      <th></th>\n",
       "      <th></th>\n",
       "      <th></th>\n",
       "      <th></th>\n",
       "      <th></th>\n",
       "      <th></th>\n",
       "      <th></th>\n",
       "      <th></th>\n",
       "    </tr>\n",
       "  </thead>\n",
       "  <tbody>\n",
       "    <tr>\n",
       "      <th>1</th>\n",
       "      <td>0</td>\n",
       "      <td>3</td>\n",
       "      <td>Braund, Mr. Owen Harris</td>\n",
       "      <td>male</td>\n",
       "      <td>22.0</td>\n",
       "      <td>1</td>\n",
       "      <td>0</td>\n",
       "      <td>A/5 21171</td>\n",
       "      <td>7.2500</td>\n",
       "      <td>NaN</td>\n",
       "      <td>S</td>\n",
       "    </tr>\n",
       "    <tr>\n",
       "      <th>2</th>\n",
       "      <td>1</td>\n",
       "      <td>1</td>\n",
       "      <td>Cumings, Mrs. John Bradley (Florence Briggs Th...</td>\n",
       "      <td>female</td>\n",
       "      <td>38.0</td>\n",
       "      <td>1</td>\n",
       "      <td>0</td>\n",
       "      <td>PC 17599</td>\n",
       "      <td>71.2833</td>\n",
       "      <td>C85</td>\n",
       "      <td>C</td>\n",
       "    </tr>\n",
       "    <tr>\n",
       "      <th>3</th>\n",
       "      <td>1</td>\n",
       "      <td>3</td>\n",
       "      <td>Heikkinen, Miss. Laina</td>\n",
       "      <td>female</td>\n",
       "      <td>26.0</td>\n",
       "      <td>0</td>\n",
       "      <td>0</td>\n",
       "      <td>STON/O2. 3101282</td>\n",
       "      <td>7.9250</td>\n",
       "      <td>NaN</td>\n",
       "      <td>S</td>\n",
       "    </tr>\n",
       "    <tr>\n",
       "      <th>4</th>\n",
       "      <td>1</td>\n",
       "      <td>1</td>\n",
       "      <td>Futrelle, Mrs. Jacques Heath (Lily May Peel)</td>\n",
       "      <td>female</td>\n",
       "      <td>35.0</td>\n",
       "      <td>1</td>\n",
       "      <td>0</td>\n",
       "      <td>113803</td>\n",
       "      <td>53.1000</td>\n",
       "      <td>C123</td>\n",
       "      <td>S</td>\n",
       "    </tr>\n",
       "    <tr>\n",
       "      <th>5</th>\n",
       "      <td>0</td>\n",
       "      <td>3</td>\n",
       "      <td>Allen, Mr. William Henry</td>\n",
       "      <td>male</td>\n",
       "      <td>35.0</td>\n",
       "      <td>0</td>\n",
       "      <td>0</td>\n",
       "      <td>373450</td>\n",
       "      <td>8.0500</td>\n",
       "      <td>NaN</td>\n",
       "      <td>S</td>\n",
       "    </tr>\n",
       "    <tr>\n",
       "      <th>6</th>\n",
       "      <td>0</td>\n",
       "      <td>3</td>\n",
       "      <td>Moran, Mr. James</td>\n",
       "      <td>male</td>\n",
       "      <td>NaN</td>\n",
       "      <td>0</td>\n",
       "      <td>0</td>\n",
       "      <td>330877</td>\n",
       "      <td>8.4583</td>\n",
       "      <td>NaN</td>\n",
       "      <td>Q</td>\n",
       "    </tr>\n",
       "    <tr>\n",
       "      <th>7</th>\n",
       "      <td>0</td>\n",
       "      <td>1</td>\n",
       "      <td>McCarthy, Mr. Timothy J</td>\n",
       "      <td>male</td>\n",
       "      <td>54.0</td>\n",
       "      <td>0</td>\n",
       "      <td>0</td>\n",
       "      <td>17463</td>\n",
       "      <td>51.8625</td>\n",
       "      <td>E46</td>\n",
       "      <td>S</td>\n",
       "    </tr>\n",
       "    <tr>\n",
       "      <th>8</th>\n",
       "      <td>0</td>\n",
       "      <td>3</td>\n",
       "      <td>Palsson, Master. Gosta Leonard</td>\n",
       "      <td>male</td>\n",
       "      <td>2.0</td>\n",
       "      <td>3</td>\n",
       "      <td>1</td>\n",
       "      <td>349909</td>\n",
       "      <td>21.0750</td>\n",
       "      <td>NaN</td>\n",
       "      <td>S</td>\n",
       "    </tr>\n",
       "    <tr>\n",
       "      <th>9</th>\n",
       "      <td>1</td>\n",
       "      <td>3</td>\n",
       "      <td>Johnson, Mrs. Oscar W (Elisabeth Vilhelmina Berg)</td>\n",
       "      <td>female</td>\n",
       "      <td>27.0</td>\n",
       "      <td>0</td>\n",
       "      <td>2</td>\n",
       "      <td>347742</td>\n",
       "      <td>11.1333</td>\n",
       "      <td>NaN</td>\n",
       "      <td>S</td>\n",
       "    </tr>\n",
       "    <tr>\n",
       "      <th>10</th>\n",
       "      <td>1</td>\n",
       "      <td>2</td>\n",
       "      <td>Nasser, Mrs. Nicholas (Adele Achem)</td>\n",
       "      <td>female</td>\n",
       "      <td>14.0</td>\n",
       "      <td>1</td>\n",
       "      <td>0</td>\n",
       "      <td>237736</td>\n",
       "      <td>30.0708</td>\n",
       "      <td>NaN</td>\n",
       "      <td>C</td>\n",
       "    </tr>\n",
       "  </tbody>\n",
       "</table>\n",
       "</div>"
      ],
      "text/plain": [
       "             Survived  Pclass  \\\n",
       "PassengerId                     \n",
       "1                   0       3   \n",
       "2                   1       1   \n",
       "3                   1       3   \n",
       "4                   1       1   \n",
       "5                   0       3   \n",
       "6                   0       3   \n",
       "7                   0       1   \n",
       "8                   0       3   \n",
       "9                   1       3   \n",
       "10                  1       2   \n",
       "\n",
       "                                                          Name     Sex   Age  \\\n",
       "PassengerId                                                                    \n",
       "1                                      Braund, Mr. Owen Harris    male  22.0   \n",
       "2            Cumings, Mrs. John Bradley (Florence Briggs Th...  female  38.0   \n",
       "3                                       Heikkinen, Miss. Laina  female  26.0   \n",
       "4                 Futrelle, Mrs. Jacques Heath (Lily May Peel)  female  35.0   \n",
       "5                                     Allen, Mr. William Henry    male  35.0   \n",
       "6                                             Moran, Mr. James    male   NaN   \n",
       "7                                      McCarthy, Mr. Timothy J    male  54.0   \n",
       "8                               Palsson, Master. Gosta Leonard    male   2.0   \n",
       "9            Johnson, Mrs. Oscar W (Elisabeth Vilhelmina Berg)  female  27.0   \n",
       "10                         Nasser, Mrs. Nicholas (Adele Achem)  female  14.0   \n",
       "\n",
       "             SibSp  Parch            Ticket     Fare Cabin Embarked  \n",
       "PassengerId                                                          \n",
       "1                1      0         A/5 21171   7.2500   NaN        S  \n",
       "2                1      0          PC 17599  71.2833   C85        C  \n",
       "3                0      0  STON/O2. 3101282   7.9250   NaN        S  \n",
       "4                1      0            113803  53.1000  C123        S  \n",
       "5                0      0            373450   8.0500   NaN        S  \n",
       "6                0      0            330877   8.4583   NaN        Q  \n",
       "7                0      0             17463  51.8625   E46        S  \n",
       "8                3      1            349909  21.0750   NaN        S  \n",
       "9                0      2            347742  11.1333   NaN        S  \n",
       "10               1      0            237736  30.0708   NaN        C  "
      ]
     },
     "execution_count": 297,
     "metadata": {},
     "output_type": "execute_result"
    }
   ],
   "source": [
    "df = pd.read_csv('titanic.csv', index_col='PassengerId')\n",
    "df.head(10)"
   ]
  },
  {
   "cell_type": "markdown",
   "id": "f3d4799d",
   "metadata": {},
   "source": [
    "Какое количество мужчин и женщин ехало на корабле? В качестве ответа приведите два числа через пробел.\n"
   ]
  },
  {
   "cell_type": "code",
   "execution_count": 298,
   "id": "16fd8e79",
   "metadata": {},
   "outputs": [
    {
     "name": "stdout",
     "output_type": "stream",
     "text": [
      "577 314\n"
     ]
    }
   ],
   "source": [
    "sex_counts = df['Sex'].value_counts()\n",
    "print('{} {}'.format(sex_counts['male'], sex_counts['female']))"
   ]
  },
  {
   "cell_type": "markdown",
   "id": "d51bd329",
   "metadata": {},
   "source": [
    "Какой части пассажиров удалось выжить? Посчитайте долю выживших пассажиров. Ответ приведите в процентах (число в интервале от 0 до 100, знак процента не нужен), округлив до двух знаков."
   ]
  },
  {
   "cell_type": "code",
   "execution_count": 301,
   "id": "17392653",
   "metadata": {},
   "outputs": [
    {
     "name": "stdout",
     "output_type": "stream",
     "text": [
      "38.38\n"
     ]
    }
   ],
   "source": [
    "survived_df = df['Survived']\n",
    "count_of_survived = survived_df.value_counts()[1]\n",
    "survived_percentage = 100.0 * count_of_survived / survived_df.value_counts().sum()\n",
    "print(\"{:0.2f}\".format(survived_percentage))"
   ]
  },
  {
   "cell_type": "code",
   "execution_count": 303,
   "id": "ae25f20c",
   "metadata": {},
   "outputs": [
    {
     "data": {
      "text/plain": [
       "891"
      ]
     },
     "execution_count": 303,
     "metadata": {},
     "output_type": "execute_result"
    }
   ],
   "source": [
    "len(df)"
   ]
  },
  {
   "cell_type": "markdown",
   "id": "25fe6cb5",
   "metadata": {},
   "source": [
    "Какую долю пассажиры первого класса составляли среди всех пассажиров? Ответ приведите в процентах (число в интервале от 0 до 100, знак процента не нужен), округлив до двух знаков.\n"
   ]
  },
  {
   "cell_type": "code",
   "execution_count": 304,
   "id": "b443fe4b",
   "metadata": {},
   "outputs": [
    {
     "name": "stdout",
     "output_type": "stream",
     "text": [
      "24.24\n"
     ]
    }
   ],
   "source": [
    "pclass_df = df['Pclass']\n",
    "count_first_class_passengers = pclass_df.value_counts()[1]\n",
    "first_class_percentage = 100.0 * count_first_class_passengers / len(df)\n",
    "print(\"{:0.2f}\".format(first_class_percentage))"
   ]
  },
  {
   "cell_type": "markdown",
   "id": "cf7c6186",
   "metadata": {},
   "source": [
    "Какого возраста были пассажиры? Посчитайте среднее и медиану возраста пассажиров. В качестве ответа приведите два числа через пробел."
   ]
  },
  {
   "cell_type": "code",
   "execution_count": 315,
   "id": "e202f97f",
   "metadata": {},
   "outputs": [
    {
     "name": "stdout",
     "output_type": "stream",
     "text": [
      "29.70 28.00\n"
     ]
    }
   ],
   "source": [
    "mean_df = df['Age'].mean()\n",
    "median_df = df['Age'].median()\n",
    "print('{:0.2f} {:0.2f}'.format(mean_df, median_df))"
   ]
  },
  {
   "cell_type": "markdown",
   "id": "c7bcc31c",
   "metadata": {},
   "source": [
    "Коррелируют ли число братьев/сестер/супругов с числом родителей/детей? Посчитайте корреляцию Пирсона между признаками SibSp и Parch.\n"
   ]
  },
  {
   "cell_type": "code",
   "execution_count": 316,
   "id": "7089f2e7",
   "metadata": {},
   "outputs": [
    {
     "name": "stdout",
     "output_type": "stream",
     "text": [
      "0.41\n"
     ]
    }
   ],
   "source": [
    "correlation = df['SibSp'].corr(df['Parch'])\n",
    "print(\"{:0.2f}\".format(correlation))"
   ]
  },
  {
   "cell_type": "markdown",
   "id": "679b9891",
   "metadata": {},
   "source": [
    "Какое самое популярное женское имя на корабле? Извлеките из полного имени пассажира (колонка Name) его личное имя (First Name). Это задание — типичный пример того, с чем сталкивается специалист по анализу данных. Данные очень разнородные и шумные, но из них требуется извлечь необходимую информацию. Попробуйте вручную разобрать несколько значений столбца Name и выработать правило для извлечения имен, а также разделения их на женские и мужские."
   ]
  },
  {
   "cell_type": "code",
   "execution_count": 320,
   "id": "6518afdb",
   "metadata": {},
   "outputs": [],
   "source": [
    "import re"
   ]
  },
  {
   "cell_type": "code",
   "execution_count": 326,
   "id": "66eb01bd",
   "metadata": {},
   "outputs": [
    {
     "name": "stdout",
     "output_type": "stream",
     "text": [
      "Anna\n"
     ]
    }
   ],
   "source": [
    "def first_name(name):\n",
    "    s = re.search('^[^,]+, (.*)', name)\n",
    "    if s:\n",
    "        name = s.group(1)\n",
    "\n",
    "    s = re.search('\\(([^)]+)\\)', name)\n",
    "    if s:\n",
    "        name = s.group(1)\n",
    "\n",
    "    name = re.sub('(Miss\\. |Mrs\\. |Ms\\. )', '', name)\n",
    "\n",
    "    name = name.split(' ')[0].replace('\"', '')\n",
    "\n",
    "    return name\n",
    "\n",
    "\n",
    "names = df[df['Sex'] == 'female']['Name'].map(first_name)\n",
    "name_counts = names.value_counts()\n",
    "name_counts.head()\n",
    "print(name_counts.head(1).index.values[0])"
   ]
  },
  {
   "cell_type": "code",
   "execution_count": null,
   "id": "016c5e82",
   "metadata": {},
   "outputs": [],
   "source": []
  },
  {
   "cell_type": "code",
   "execution_count": null,
   "id": "a356336a",
   "metadata": {},
   "outputs": [],
   "source": []
  },
  {
   "cell_type": "code",
   "execution_count": null,
   "id": "6d0b75f2",
   "metadata": {},
   "outputs": [],
   "source": []
  },
  {
   "cell_type": "code",
   "execution_count": null,
   "id": "7804c08a",
   "metadata": {},
   "outputs": [],
   "source": []
  }
 ],
 "metadata": {
  "kernelspec": {
   "display_name": "Python 3",
   "language": "python",
   "name": "python3"
  },
  "language_info": {
   "codemirror_mode": {
    "name": "ipython",
    "version": 3
   },
   "file_extension": ".py",
   "mimetype": "text/x-python",
   "name": "python",
   "nbconvert_exporter": "python",
   "pygments_lexer": "ipython3",
   "version": "3.8.8"
  }
 },
 "nbformat": 4,
 "nbformat_minor": 5
}
