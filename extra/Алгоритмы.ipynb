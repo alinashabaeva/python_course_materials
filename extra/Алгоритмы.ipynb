{
 "cells": [
  {
   "cell_type": "markdown",
   "id": "90a7920f",
   "metadata": {},
   "source": [
    "# Алгоритмы"
   ]
  },
  {
   "cell_type": "markdown",
   "id": "8049ba8d",
   "metadata": {},
   "source": [
    "О-большое; log = log2"
   ]
  },
  {
   "cell_type": "markdown",
   "id": "826f7f4d",
   "metadata": {},
   "source": [
    "бинарный поиск работает только если список отсортирован"
   ]
  },
  {
   "cell_type": "markdown",
   "id": "373f3cad",
   "metadata": {},
   "source": [
    "время выполнения: линейное - если макс кол-во попыток = размер списка (перебор каждого варианта) (простой поиск): O(n)"
   ]
  },
  {
   "cell_type": "markdown",
   "id": "bc0a73c1",
   "metadata": {},
   "source": [
    "бинарный поиск выполняется за логарифмическое время: \n",
    "O(Log n)"
   ]
  },
  {
   "cell_type": "markdown",
   "id": "49a517b9",
   "metadata": {},
   "source": [
    "О-большое описывает, наколько быстро работает алгоритм. Сообщает скорость не в секундах, а позволяет сравнить количество операций. Оно указывает, насколько быстро возрастает время выполнения алгоритма. \n",
    "О-большое опр-т время выполнения в худшем случае. "
   ]
  },
  {
   "cell_type": "code",
   "execution_count": null,
   "id": "33d3ccd6",
   "metadata": {},
   "outputs": [],
   "source": [
    "# функция для поиска наименьшего элемента массива\n",
    "def find_Smallest(arr):\n",
    "    smallest = arr[] # для хранения наименьшего значения\n",
    "    smallest_index = 0  # для хранения индекса наименьшего значения\n",
    "    for i in range(1, len(arr)):\n",
    "        if arr[i] < smallest:\n",
    "            smallest_index = i\n",
    "    return smallest_index"
   ]
  },
  {
   "cell_type": "code",
   "execution_count": null,
   "id": "8951a42c",
   "metadata": {},
   "outputs": [],
   "source": [
    "# функция сортировки выбором\n",
    "def selectionSort(arr): # сортирует массив\n",
    "    newArr = []\n",
    "    for i in range(len(arr)):\n",
    "        smallest = indSmallest(arr) # находит наименьший элемент в массиве и добавляет его в новый массив\n",
    "        newArr.append(arr.pop(smallest))\n",
    "    return newArr\n",
    "print selectionSort([5,3,6,2,10])"
   ]
  },
  {
   "cell_type": "markdown",
   "id": "dce67062",
   "metadata": {},
   "source": [
    "# Рекурсия"
   ]
  },
  {
   "cell_type": "markdown",
   "id": "ba26675e",
   "metadata": {},
   "source": [
    "Это вызов функцией самой себя"
   ]
  },
  {
   "cell_type": "markdown",
   "id": "5488586b",
   "metadata": {},
   "source": [
    "Каждая рекурсивная функция состоит из 2х частей: базового случая(ф-ция не вызывает саму себя, чтобы предотвратить зацикливание) и рекурсивного случая (ф-ция вызывает саму себя)"
   ]
  },
  {
   "cell_type": "markdown",
   "id": "f069fe34",
   "metadata": {},
   "source": [
    "Стек поддерживает 2 операции: занесение и извлечение элементов"
   ]
  },
  {
   "cell_type": "code",
   "execution_count": null,
   "id": "8d3cf805",
   "metadata": {},
   "outputs": [],
   "source": []
  }
 ],
 "metadata": {
  "kernelspec": {
   "display_name": "Python 3",
   "language": "python",
   "name": "python3"
  },
  "language_info": {
   "codemirror_mode": {
    "name": "ipython",
    "version": 3
   },
   "file_extension": ".py",
   "mimetype": "text/x-python",
   "name": "python",
   "nbconvert_exporter": "python",
   "pygments_lexer": "ipython3",
   "version": "3.8.8"
  }
 },
 "nbformat": 4,
 "nbformat_minor": 5
}
