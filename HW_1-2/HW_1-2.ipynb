{
 "cells": [
  {
   "cell_type": "markdown",
   "id": "ef43214b",
   "metadata": {},
   "source": [
    "# 0. Наибольший общий делитель - 1 балл\n",
    "Напишите функцию, которая на вход принимает два целых числа, а на выходе отдает их наибольших общий делитель. \n",
    "\n",
    "Пример\n",
    "\n",
    "Ввод \n",
    "\n",
    "`lcd(10,2)`\n",
    "\n",
    "Вывод\n",
    "\n",
    "`2`\n",
    "\n",
    "Пример\n",
    "\n",
    "Ввод \n",
    "\n",
    "`lcd(10,25)`\n",
    "\n",
    "Вывод\n",
    "\n",
    "`5`"
   ]
  },
  {
   "cell_type": "code",
   "execution_count": 1,
   "id": "d227561c",
   "metadata": {},
   "outputs": [
    {
     "name": "stdout",
     "output_type": "stream",
     "text": [
      "2\n"
     ]
    }
   ],
   "source": [
    "def gcd(x, y): #calculate greatest common devisor\n",
    "    while y != 0:\n",
    "        (x, y) = (y, x % y)\n",
    "    return x\n",
    "\n",
    "print(gcd(10,2))"
   ]
  },
  {
   "cell_type": "code",
   "execution_count": 2,
   "id": "c01115c8",
   "metadata": {},
   "outputs": [
    {
     "name": "stdout",
     "output_type": "stream",
     "text": [
      "5\n"
     ]
    }
   ],
   "source": [
    "def gcd(x, y): \n",
    "    while y != 0:\n",
    "        (x, y) = (y, x % y)\n",
    "    return x\n",
    "\n",
    "print(gcd(10,25))"
   ]
  },
  {
   "cell_type": "code",
   "execution_count": 3,
   "id": "72427a88",
   "metadata": {},
   "outputs": [
    {
     "name": "stdout",
     "output_type": "stream",
     "text": [
      "25\n",
      "4\n"
     ]
    }
   ],
   "source": [
    "def gcd(x, y): \n",
    "    while y != 0:\n",
    "        (x, y) = (y, x % y)\n",
    "    return x\n",
    "\n",
    "print(gcd(125,225))\n",
    "print(gcd(88,1732))"
   ]
  },
  {
   "cell_type": "markdown",
   "id": "777171f3",
   "metadata": {},
   "source": [
    "# 1. Задачка про перевод из `camel_case`'a в `snake_case` - 1.5 балла\n",
    " Напишите функцию, которая на вход принимает строку, записанную в `CamelCase`, а переводит ее в `snake_case`.\n",
    " Подсказка: идите по строке циклом, обрабатывайте каждый символ, если символ заглавный, к обработанным ранее добавляйте нижнее подчеркивание и нынешний переводите в `lower case` \n",
    " \n",
    " Пример:\n",
    "\n",
    "**Вход**: `'camelCaseVar'`\n",
    "\n",
    "**Выход**: `'camel_сase_var'`"
   ]
  },
  {
   "cell_type": "code",
   "execution_count": 4,
   "id": "5e4c1ced",
   "metadata": {},
   "outputs": [
    {
     "name": "stdout",
     "output_type": "stream",
     "text": [
      "camel_case_var\n",
      "coconut_ice_cream\n"
     ]
    }
   ],
   "source": [
    "def snake_case(sth):\n",
    "    i_upper = 'ABCDEFGHIJKLMNOPQRSTUVWXYZ'\n",
    "    out = []\n",
    "    for i in sth:\n",
    "        if i in i_upper:\n",
    "            out.append('_')\n",
    "            out.append(i.lower())\n",
    "        else:\n",
    "            out.append(i)\n",
    "    result = ''.join (out)\n",
    "    return result\n",
    "\n",
    "print(snake_case('camelCaseVar'))\n",
    "print(snake_case('coconutIceCream'))"
   ]
  },
  {
   "cell_type": "code",
   "execution_count": 5,
   "id": "6a5132f3",
   "metadata": {},
   "outputs": [
    {
     "name": "stdout",
     "output_type": "stream",
     "text": [
      "camel_case_var\n",
      "coconut_ice_cream\n"
     ]
    }
   ],
   "source": [
    "#another option with regular expressions that is easier\n",
    "\n",
    "def snake_case(sth):\n",
    "    import re\n",
    "    return re.sub('([A-Z]+)', r'_\\1', sth).lower()\n",
    "print(snake_case('camelCaseVar'))\n",
    "print(snake_case('coconutIceCream'))"
   ]
  },
  {
   "cell_type": "markdown",
   "id": "929847a2",
   "metadata": {},
   "source": [
    "# 2. Про Поросёнка Петра - 2 балла\n",
    "На плоскости в точке `(0,0)` стоит Поросёнок Пётр. Он умеет ходить налево, направо, вверх и вниз. Расстояние его прохода в какую-либо сторону измеряется в шагах. Когда он идет вправо, его первая координата увеличивается, когда влево - уменьшается. Когда он идет вверх, его вторая координата увеличивается, а когда вниз - уменьшается.\n",
    "С клавиатуры считывается число `N` - число ходов, которые сделает Пётр. После чего на каждом шаге спрашивается, сколько шагов и в какую сторону за этот ход Пётр сделает. Так происходит, пока Пётр не осуществит все N ходов.\n",
    "Программа должна вывести, сколько шагов Пётр должен был бы сделать, чтобы кратчайшим путем прибыть из свое начальной точки `(0,0)` в свою конечную точку. \n",
    "\n",
    "Напоминание: Пётр умеет ходить только вверх-вниз, и влево-вправо, но не по диагонали.\n",
    "\n",
    "Пример ввода:\n",
    "\n",
    "Введите N: `3`\n",
    "\n",
    "Ход 1: `Вверх 1`\n",
    "\n",
    "Ход 2: `Вниз 1`\n",
    "\n",
    "Ход 3: `Вверх 1`\n",
    "\n",
    "Пример вывода:\n",
    "`Пётр находится на расстоянии 1 от (0,0)`"
   ]
  },
  {
   "cell_type": "code",
   "execution_count": 6,
   "id": "b5190b7d",
   "metadata": {},
   "outputs": [
    {
     "name": "stdout",
     "output_type": "stream",
     "text": [
      "Введите N: 3\n",
      "Ход 1: Вверх 1\n",
      "Ход 2: Вниз 1\n",
      "Ход 3: Вверх 1\n",
      "Пётр находится на расстоянии 1 от (0,0)\n"
     ]
    }
   ],
   "source": [
    "def min_steps():\n",
    "    steps = int(input('Введите N: '))\n",
    "    loc = [0,0]\n",
    "    for i in range(steps):\n",
    "        z = input(\"Ход \" +str(i+1) + ': ')\n",
    "        where, num = z.split() # две переменные (направление и кол-во шагов), которые будут в введенном ответе, вводятся через пробел, на основании которого их и поделим\n",
    "        num = int(num)\n",
    "        if where == \"Вверх\":\n",
    "            loc[1] += num # [1]=обращаемся ко второму элементу массива loc\n",
    "        elif where == \"Вниз\":\n",
    "            loc[1] -= num\n",
    "        elif where == \"Влево\":\n",
    "            loc[0] -= num # [0]=обращаемся к первому элементу массива loc\n",
    "        elif where == \"Вправо\":\n",
    "            loc[0] += num\n",
    "                \n",
    "    dist =abs(loc[0]+abs(loc[1])) # складываем шаги по модулю\n",
    "    print('Пётр находится на расстоянии ' + str(dist) + ' от (0,0)')\n",
    "min_steps()\n",
    "      "
   ]
  },
  {
   "cell_type": "markdown",
   "id": "e16286cb",
   "metadata": {},
   "source": [
    "# 3. Sort the keys of the dictionary from a to z.  - 0.5 балла"
   ]
  },
  {
   "cell_type": "code",
   "execution_count": 7,
   "id": "b81d45f3",
   "metadata": {},
   "outputs": [],
   "source": [
    "d = {\"tiramisu\":5, \"chocolate\":2, \"pudding\":3, \"cheesecake\":4}"
   ]
  },
  {
   "cell_type": "code",
   "execution_count": 8,
   "id": "825933be",
   "metadata": {},
   "outputs": [
    {
     "name": "stdout",
     "output_type": "stream",
     "text": [
      "['cheesecake', 'chocolate', 'pudding', 'tiramisu']\n"
     ]
    }
   ],
   "source": [
    "#if we need to get a sorted list\n",
    "\n",
    "def sort_dict(d):  \n",
    "    sorted_keys=sorted(d.keys())\n",
    "    return sorted_keys\n",
    "d = {\"tiramisu\":5, \"chocolate\":2, \"pudding\":3, \"cheesecake\":4}\n",
    "print(sort_dict(d)) "
   ]
  },
  {
   "cell_type": "code",
   "execution_count": 9,
   "id": "ac147b1e",
   "metadata": {},
   "outputs": [
    {
     "name": "stdout",
     "output_type": "stream",
     "text": [
      "{'cheesecake': 4, 'chocolate': 2, 'pudding': 3, 'tiramisu': 5}\n"
     ]
    }
   ],
   "source": [
    "#if we need to get a sorted dict\n",
    "\n",
    "def sort(x:dict):  \n",
    "    sorted_keys=sorted(d.keys())\n",
    "    sorted_dict = {}\n",
    "    for i in sorted_keys:\n",
    "        sorted_dict[i]=x[i]\n",
    "    return sorted_dict\n",
    "\n",
    "d = {\"tiramisu\":5, \"chocolate\":2, \"pudding\":3, \"cheesecake\":4}\n",
    "print(sort(d)) "
   ]
  },
  {
   "cell_type": "markdown",
   "id": "77275ebf",
   "metadata": {},
   "source": [
    "# 4. Compare three values, return true only if 2 or more values are equal - 0.5 балла"
   ]
  },
  {
   "cell_type": "code",
   "execution_count": 10,
   "id": "d0893272",
   "metadata": {},
   "outputs": [
    {
     "name": "stdout",
     "output_type": "stream",
     "text": [
      "False\n",
      "True\n",
      "True\n",
      "True\n"
     ]
    }
   ],
   "source": [
    "def is_equal(a: int, b: int,c: int):\n",
    "    if a == b:\n",
    "        return True\n",
    "    if a == c:\n",
    "        return True\n",
    "    if b == c:\n",
    "        return True\n",
    "    else:\n",
    "        return False\n",
    "\n",
    "print(is_equal(1,2,3))\n",
    "print(is_equal(7,17,7))\n",
    "print(is_equal(3,3,5))\n",
    "print(is_equal(5,5,5))"
   ]
  },
  {
   "cell_type": "markdown",
   "id": "895340c0",
   "metadata": {},
   "source": [
    "# 5. Given a list with pairs, sort on the sum of pairs - 0.5 балла"
   ]
  },
  {
   "cell_type": "code",
   "execution_count": 11,
   "id": "7a8971e2",
   "metadata": {},
   "outputs": [],
   "source": [
    "x = [(3,6),(4,7),(5,9),(8,4),(3,1)]"
   ]
  },
  {
   "cell_type": "code",
   "execution_count": 12,
   "id": "9989309f",
   "metadata": {},
   "outputs": [
    {
     "name": "stdout",
     "output_type": "stream",
     "text": [
      "[(3, 1), (3, 6), (4, 7), (8, 4), (5, 9)]\n"
     ]
    }
   ],
   "source": [
    "def sort_pairs(x):\n",
    "    sorted_pairs=sorted(x, key = lambda x:x[0] + x[1])\n",
    "    return sorted_pairs\n",
    "x = [(3,6),(4,7),(5,9),(8,4),(3,1)]\n",
    "print(sort_pairs(x))"
   ]
  },
  {
   "cell_type": "markdown",
   "id": "be5b7018",
   "metadata": {},
   "source": [
    "# 6. Create a function that takes a list of numbers. Return the largest number in the list. - 0.5 балла"
   ]
  },
  {
   "cell_type": "markdown",
   "id": "a47aceb8",
   "metadata": {},
   "source": [
    "findLargestNum([4, 5, 1, 3]) ➞ 5\n",
    "\n",
    "findLargestNum([300, 200, 600, 150]) ➞ 600\n",
    "\n",
    "findLargestNum([1000, 1001, 857, 1]) ➞ 1001"
   ]
  },
  {
   "cell_type": "code",
   "execution_count": 3,
   "id": "331b8595",
   "metadata": {},
   "outputs": [
    {
     "name": "stdout",
     "output_type": "stream",
     "text": [
      "5\n"
     ]
    }
   ],
   "source": [
    "def find_max(list): #find the largest number in the list\n",
    "    max = list[0] #the largest element\n",
    "    \n",
    "    for x in list:\n",
    "        if x > max:\n",
    "            max = x\n",
    "    return max\n",
    "list = [4, 5, 1, 3]\n",
    "print(find_max(list))"
   ]
  },
  {
   "cell_type": "code",
   "execution_count": 4,
   "id": "800b14a2",
   "metadata": {},
   "outputs": [
    {
     "name": "stdout",
     "output_type": "stream",
     "text": [
      "600\n"
     ]
    }
   ],
   "source": [
    "def find_max(list): \n",
    "    max = list[0] \n",
    "    \n",
    "    for x in list:\n",
    "        if x > max:\n",
    "            max = x\n",
    "    return max\n",
    "list = [300, 200, 600, 150]\n",
    "print(find_max(list))"
   ]
  },
  {
   "cell_type": "code",
   "execution_count": 5,
   "id": "322b8555",
   "metadata": {},
   "outputs": [
    {
     "name": "stdout",
     "output_type": "stream",
     "text": [
      "1001\n",
      "767\n"
     ]
    }
   ],
   "source": [
    "def find_max(list): \n",
    "    max = list[0] \n",
    "    \n",
    "    for x in list:\n",
    "        if x > max:\n",
    "            max = x\n",
    "    return max\n",
    "print(find_max([1000, 1001, 857, 1]))\n",
    "print(find_max([764, 248, 22, 767]))"
   ]
  },
  {
   "cell_type": "markdown",
   "id": "17918763",
   "metadata": {},
   "source": [
    "# 7. Create a function that takes a string and returns the concatenated first and last character. - 0.5 балла"
   ]
  },
  {
   "cell_type": "markdown",
   "id": "49e6cd80",
   "metadata": {},
   "source": [
    "repetition(\"ab\", 3) ➞ \"ababab\"\n",
    "\n",
    "repetition(\"kiwi\", 1) ➞ \"kiwi\"\n",
    "\n",
    "repetition(\"cherry\", 2) ➞ \"cherrycherry\""
   ]
  },
  {
   "cell_type": "code",
   "execution_count": 2,
   "id": "3880352a",
   "metadata": {},
   "outputs": [],
   "source": [
    "# was not sure if I had to create a function for repetition or for concatenation so I did both + one for concatenation & repetition as an example"
   ]
  },
  {
   "cell_type": "code",
   "execution_count": 6,
   "id": "62b9974a",
   "metadata": {},
   "outputs": [
    {
     "name": "stdout",
     "output_type": "stream",
     "text": [
      "ababab\n"
     ]
    }
   ],
   "source": [
    "def repeat_string(str):\n",
    "    repeated_string = str\n",
    "    return repeated_string\n",
    "str = 'ab'\n",
    "print(repeat_string(str*3))"
   ]
  },
  {
   "cell_type": "code",
   "execution_count": 7,
   "id": "eafc50a6",
   "metadata": {},
   "outputs": [
    {
     "name": "stdout",
     "output_type": "stream",
     "text": [
      "kiwi\n",
      "cherrycherry\n"
     ]
    }
   ],
   "source": [
    "def repeat_string(str):\n",
    "    repeated_string = str\n",
    "    return repeated_string\n",
    "print(repeat_string('kiwi'*1))\n",
    "print(repeat_string('cherry'*2))"
   ]
  },
  {
   "cell_type": "code",
   "execution_count": 8,
   "id": "b967c921",
   "metadata": {},
   "outputs": [
    {
     "name": "stdout",
     "output_type": "stream",
     "text": [
      "cy\n",
      "ki\n",
      "ao\n"
     ]
    }
   ],
   "source": [
    "def concatenate_str(str):\n",
    "    concatenated_str = str[0] + str[-1]\n",
    "    return concatenated_str\n",
    "print(concatenate_str('cherry'))\n",
    "print(concatenate_str('kiwi'))\n",
    "print(concatenate_str('avocado'))"
   ]
  },
  {
   "cell_type": "code",
   "execution_count": 9,
   "id": "d7c9b059",
   "metadata": {},
   "outputs": [
    {
     "name": "stdout",
     "output_type": "stream",
     "text": [
      "cycycy\n"
     ]
    }
   ],
   "source": [
    "def concatenate_str(str):\n",
    "    concatenated_str = str[0] + str[-1]\n",
    "    return concatenated_str\n",
    "str = 'cherry'\n",
    "print(concatenate_str(str)*3)"
   ]
  },
  {
   "cell_type": "markdown",
   "id": "5c2fe48a",
   "metadata": {},
   "source": [
    "# 8. Create a function that takes a 2D list lst returns the sum of the minimum value in each row. - 0.5 балла"
   ]
  },
  {
   "cell_type": "code",
   "execution_count": null,
   "id": "fddbd586",
   "metadata": {},
   "outputs": [],
   "source": [
    "sum_minimums([\n",
    "  [1, 2, 3, 4, 5],\n",
    "  [5, 6, 7, 8, 9],\n",
    "  [20, 21, 34, 56, 100]\n",
    "] ➞ 26\n",
    "\n",
    "# minimum value of the first row is 1\n",
    "# minimum value of the second row is 5\n",
    "# minimum value of the third row is 20"
   ]
  },
  {
   "cell_type": "code",
   "execution_count": 10,
   "id": "2013a952",
   "metadata": {},
   "outputs": [
    {
     "name": "stdout",
     "output_type": "stream",
     "text": [
      "26\n"
     ]
    }
   ],
   "source": [
    "def sum_minimums(num):\n",
    "    return sum(map(min, num))\n",
    "\n",
    "num = (\n",
    "  [1, 2, 3, 4, 5],\n",
    "  [5, 6, 7, 8, 9],\n",
    "  [20, 21, 34, 56, 100])\n",
    "    \n",
    "print(sum_minimums(num))"
   ]
  },
  {
   "cell_type": "code",
   "execution_count": 11,
   "id": "51c74052",
   "metadata": {},
   "outputs": [
    {
     "name": "stdout",
     "output_type": "stream",
     "text": [
      "26\n"
     ]
    }
   ],
   "source": [
    "def sum_minimums(num):\n",
    "    sum = 0\n",
    "    for i in num:\n",
    "        min = i[0]\n",
    "        for x in i:\n",
    "            if x<min:\n",
    "                min=x\n",
    "        sum += min\n",
    "    return sum\n",
    "num = (\n",
    "  [1, 2, 3, 4, 5],\n",
    "  [5, 6, 7, 8, 9],\n",
    "  [20, 21, 34, 56, 100])\n",
    "    \n",
    "print(sum_minimums(num))"
   ]
  },
  {
   "cell_type": "markdown",
   "id": "88c6709f",
   "metadata": {},
   "source": [
    "# 9. Create a function to return the amount of potatoes there are in a string. - 0.5 балла"
   ]
  },
  {
   "cell_type": "code",
   "execution_count": null,
   "id": "e2610cbd",
   "metadata": {},
   "outputs": [],
   "source": [
    "potatoes(\"potato\") ➞ 1\n",
    "\n",
    "potatoes(\"potatopotato\") ➞ 2\n",
    "\n",
    "potatoes(\"potatoapple\") ➞ 1"
   ]
  },
  {
   "cell_type": "code",
   "execution_count": 12,
   "id": "5555febc",
   "metadata": {},
   "outputs": [
    {
     "name": "stdout",
     "output_type": "stream",
     "text": [
      "1\n"
     ]
    }
   ],
   "source": [
    "def count_potato(str):\n",
    "    result = str.count('potato')\n",
    "    return result\n",
    "str = 'potatoes'\n",
    "print(count_potato(str))"
   ]
  },
  {
   "cell_type": "code",
   "execution_count": 13,
   "id": "a208e138",
   "metadata": {},
   "outputs": [
    {
     "name": "stdout",
     "output_type": "stream",
     "text": [
      "2\n",
      "1\n",
      "0\n"
     ]
    }
   ],
   "source": [
    "def count_potato(str):\n",
    "    result = str.count('potato')\n",
    "    return result\n",
    "print(count_potato('potatopotato'))\n",
    "print(count_potato('potatoapple'))\n",
    "print(count_potato('cocunutcocunutpotat'))"
   ]
  },
  {
   "cell_type": "markdown",
   "id": "7fb5aa44",
   "metadata": {},
   "source": [
    "# 10. Create a function that takes a list of integers as an argument and returns a unique number from that list. All numbers except unique ones have the same number of occurrences in the list. - 0.5 балла"
   ]
  },
  {
   "cell_type": "code",
   "execution_count": null,
   "id": "661b62d1",
   "metadata": {},
   "outputs": [],
   "source": [
    "find_single_number([2, 2, 2, 3, 4, 4, 4]) ➞ 3\n",
    "\n",
    "find_single_number([2]) ➞ 2\n",
    "\n",
    "find_single_number([]) ➞ None\n",
    "\n",
    "find_single_number([7, 13, 3, 6, 5, 4, 4, 13, 5, 3, 6, 7, 6, 5, 3, 13, 4, 7, 13, 5, 7, 4, 3, 6, 8, 4, 3, 7, 5, 6, 13]) ➞ 8\n",
    "\n",
    "find_single_number([1, 2, 3, 6, 5, 4, 4, 2, 5, 3, 6, 1, 6, 5, 3, 2, 4, 1, 2, 5, 1, 4, 3, 6, 101, 4, 3, 1, 5, 6, 2]) ➞ 101\n"
   ]
  },
  {
   "cell_type": "code",
   "execution_count": 14,
   "id": "1b377263",
   "metadata": {},
   "outputs": [
    {
     "name": "stdout",
     "output_type": "stream",
     "text": [
      "3\n"
     ]
    }
   ],
   "source": [
    "def find_unique_num(lst):\n",
    "    result = []\n",
    "    for i in lst:\n",
    "        if lst.count(i) == 1:\n",
    "            result.append(i)\n",
    "            if len(result)>0:\n",
    "                return result[0]\n",
    "            else:\n",
    "                return None\n",
    "print(find_unique_num([2, 2, 2, 3, 4, 4, 4]))"
   ]
  },
  {
   "cell_type": "code",
   "execution_count": 15,
   "id": "23f644fe",
   "metadata": {},
   "outputs": [
    {
     "name": "stdout",
     "output_type": "stream",
     "text": [
      "2\n",
      "None\n",
      "8\n",
      "101\n"
     ]
    }
   ],
   "source": [
    "def find_unique_num(lst):\n",
    "    result = [] #unique number\n",
    "    for i in lst:\n",
    "        if lst.count(i) == 1:\n",
    "            result.append(i)\n",
    "            if len(result)>0:\n",
    "                return result[0]\n",
    "            else:\n",
    "                return None\n",
    "print(find_unique_num([2]))\n",
    "print(find_unique_num([]))\n",
    "print(find_unique_num([7, 13, 3, 6, 5, 4, 4, 13, 5, 3, 6, 7, 6, 5, 3, 13, 4, 7, 13, 5, 7, 4, 3, 6, 8, 4, 3, 7, 5, 6, 13])) \n",
    "print(find_unique_num([1, 2, 3, 6, 5, 4, 4, 2, 5, 3, 6, 1, 6, 5, 3, 2, 4, 1, 2, 5, 1, 4, 3, 6, 101, 4, 3, 1, 5, 6, 2]))"
   ]
  },
  {
   "cell_type": "markdown",
   "id": "0313ea52",
   "metadata": {},
   "source": [
    "# 11. Given a letter and a list of words, return whether the letter does not appear in any of the words. - 0.5 балл"
   ]
  },
  {
   "cell_type": "code",
   "execution_count": null,
   "id": "0cb649a5",
   "metadata": {},
   "outputs": [],
   "source": [
    "forbidden_letter(\"r\", [\"rock\", \"paper\", \"scissors\"]) ➞ False\n",
    "\n",
    "forbidden_letter(\"a\", [\"spoon\", \"fork\", \"knife\"]) ➞ True\n",
    "\n",
    "forbidden_letter(\"m\", []) ➞ True"
   ]
  },
  {
   "cell_type": "code",
   "execution_count": 16,
   "id": "a5c745ed",
   "metadata": {},
   "outputs": [
    {
     "name": "stdout",
     "output_type": "stream",
     "text": [
      "False\n",
      "True\n",
      "True\n"
     ]
    }
   ],
   "source": [
    "def forbidden_letter(target_letter, words):\n",
    "    out = True\n",
    "    for i in words:\n",
    "        for x in i:\n",
    "            if target_letter == x:\n",
    "                out = False\n",
    "    return out\n",
    "\n",
    "print(forbidden_letter(\"r\", [\"rock\", \"paper\", \"scissors\"]))\n",
    "print(forbidden_letter(\"a\", [\"spoon\", \"fork\", \"knife\"]))\n",
    "print(forbidden_letter(\"m\", []))"
   ]
  },
  {
   "cell_type": "markdown",
   "id": "0a7ef5b5",
   "metadata": {},
   "source": [
    "# 12.  Define a function which create a Pattern like this one.  - 2 балла"
   ]
  },
  {
   "cell_type": "markdown",
   "id": "9663a96f",
   "metadata": {},
   "source": [
    "Input: 4\n",
    "Pattern:\n",
    "\n",
    " 01234\n",
    "  | |     0\n",
    " -----    1\n",
    "  | |     2\n",
    " -----    3\n",
    "  | |     4"
   ]
  },
  {
   "cell_type": "code",
   "execution_count": 1,
   "id": "5d3b0cdd",
   "metadata": {},
   "outputs": [
    {
     "name": "stdout",
     "output_type": "stream",
     "text": [
      "01234\n",
      " | |   0\n",
      "-----  1\n",
      " | |   2\n",
      "-----  3\n",
      " | |   4\n"
     ]
    }
   ],
   "source": [
    "def pattern(num):\n",
    "    for x in range(num+1):\n",
    "        print(x, end = '')\n",
    "    print('')\n",
    "    for x in range(num+1):\n",
    "        if x%2 == 0:\n",
    "            print (' | |   ' + str(x))\n",
    "        else:\n",
    "            print('-----  ' + str(x))\n",
    "    return     \n",
    "pattern(4)"
   ]
  },
  {
   "cell_type": "markdown",
   "id": "0d5edcd1",
   "metadata": {},
   "source": [
    "# 13. Create a function that takes three numbers as arguments and returns True if it's a triangle and False if not.  - 0.5 балла"
   ]
  },
  {
   "cell_type": "markdown",
   "id": "bc0de87a",
   "metadata": {},
   "source": [
    "is_triangle(2, 3, 4) ➞ True\n",
    "\n",
    "is_triangle(3, 4, 5) ➞ True\n",
    "\n",
    "is_triangle(4, 3, 8) ➞ False"
   ]
  },
  {
   "cell_type": "code",
   "execution_count": 21,
   "id": "8a304e24",
   "metadata": {},
   "outputs": [
    {
     "name": "stdout",
     "output_type": "stream",
     "text": [
      "True\n",
      "True\n",
      "False\n"
     ]
    }
   ],
   "source": [
    "def is_triangle(a, b, c):\n",
    "    if a + b <= c:\n",
    "        return False\n",
    "    if b + c <= a:\n",
    "        return False\n",
    "    if c + a <= b:\n",
    "        return False\n",
    "    else:\n",
    "        return True\n",
    "\n",
    "print(is_triangle(2, 3, 4))   \n",
    "print(is_triangle(3, 4, 5))\n",
    "print(is_triangle(4, 3, 8))   "
   ]
  },
  {
   "cell_type": "markdown",
   "id": "2bdfb66e",
   "metadata": {},
   "source": [
    "# 14. Create a \"Code\" Generator that takes text as input and replaces some letter with another letter, and outputs the \"encoded\" message. Create funcs to encode and decode messages"
   ]
  },
  {
   "cell_type": "code",
   "execution_count": null,
   "id": "0caf2b35",
   "metadata": {},
   "outputs": [],
   "source": [
    "replacement = {\"a\": \"b\", \"d\": \"1\" ......}"
   ]
  },
  {
   "cell_type": "code",
   "execution_count": 16,
   "id": "e42b986f",
   "metadata": {},
   "outputs": [
    {
     "name": "stdout",
     "output_type": "stream",
     "text": [
      "rfz7\n"
     ]
    }
   ],
   "source": [
    "def encode(word):\n",
    "    encoded_word = []\n",
    "    out = []\n",
    "    for i in word:\n",
    "        encoded_word += mappings.get(i, i)\n",
    "        out = ''.join(encoded_word)\n",
    "    return out\n",
    "   \n",
    "mappings = {'a': \"r\", \"v\": \"f\", \"o\": \"z\", \"c\": \"7\"}\n",
    "word = 'avoc'\n",
    "print(encode(word))"
   ]
  },
  {
   "cell_type": "code",
   "execution_count": 17,
   "id": "a3bf8165",
   "metadata": {},
   "outputs": [
    {
     "name": "stdout",
     "output_type": "stream",
     "text": [
      "avoc\n"
     ]
    }
   ],
   "source": [
    "def decode(encoded_word):\n",
    "    decoded_dic = {} # создаем обратный словарь\n",
    "    decoded_word = []\n",
    "    result = []\n",
    "    for key, val in mappings.items():\n",
    "        decoded_dic[val] = key\n",
    "    for x in encoded_word:\n",
    "        decoded_word += decoded_dic.get(x, x)\n",
    "        result = ''.join(decoded_word)\n",
    "    return result\n",
    "\n",
    "print(decode(encoded_word))"
   ]
  },
  {
   "cell_type": "code",
   "execution_count": null,
   "id": "318d6ffe",
   "metadata": {},
   "outputs": [],
   "source": []
  },
  {
   "cell_type": "code",
   "execution_count": null,
   "id": "4403ed5d",
   "metadata": {},
   "outputs": [],
   "source": []
  }
 ],
 "metadata": {
  "kernelspec": {
   "display_name": "Python 3",
   "language": "python",
   "name": "python3"
  },
  "language_info": {
   "codemirror_mode": {
    "name": "ipython",
    "version": 3
   },
   "file_extension": ".py",
   "mimetype": "text/x-python",
   "name": "python",
   "nbconvert_exporter": "python",
   "pygments_lexer": "ipython3",
   "version": "3.8.8"
  }
 },
 "nbformat": 4,
 "nbformat_minor": 5
}
